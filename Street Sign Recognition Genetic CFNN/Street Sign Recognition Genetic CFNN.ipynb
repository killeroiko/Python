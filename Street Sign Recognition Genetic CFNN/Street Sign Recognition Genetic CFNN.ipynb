{
  "nbformat": 4,
  "nbformat_minor": 0,
  "metadata": {
    "colab": {
      "name": "GCFNN.ipynb",
      "provenance": [],
      "collapsed_sections": []
    },
    "kernelspec": {
      "display_name": "Python 3",
      "name": "python3"
    },
    "language_info": {
      "name": "python"
    }
  },
  "cells": [
    {
      "cell_type": "markdown",
      "metadata": {
        "id": "uugHVg0oIS_d"
      },
      "source": [
        "# **Load The Data and Dependencies**"
      ]
    },
    {
      "cell_type": "code",
      "metadata": {
        "id": "SOYerR_r7eEl"
      },
      "source": [
        "#install libraries\n",
        "!pip install -q keras\n",
        "\n",
        "#imports\n",
        "import tensorflow as tf\n",
        "import keras\n",
        "from keras import backend as K\n",
        "from keras.engine.topology import Layer\n",
        "from keras.models import Sequential\n",
        "from keras.layers import Dense, Dropout, Flatten\n",
        "from keras.optimizers import Adam\n",
        "from keras.utils.np_utils import to_categorical\n",
        "from keras.layers.convolutional import Conv2D, MaxPooling2D\n",
        "from keras.preprocessing.image import ImageDataGenerator\n",
        "\n",
        "import numpy as np\n",
        "import matplotlib.pyplot as plt\n",
        "import cv2\n",
        "from sklearn.model_selection import train_test_split\n",
        "import os\n",
        "import pandas as pd\n",
        "import random\n",
        "from google.colab.patches import cv2_imshow"
      ],
      "execution_count": null,
      "outputs": []
    },
    {
      "cell_type": "code",
      "metadata": {
        "id": "WWQHgjG1SOC8"
      },
      "source": [
        "#run this cell if you are importing the libraries from google drive\n",
        "from google.colab import drive\n",
        "\n",
        "#import data library\n",
        "drive.mount('/content/drive')\n",
        "\n",
        "path = '/content/drive/MyDrive/myData' #folder with all the data\n",
        "labelFile = '/content/drive/MyDrive/labels.csv' #CSV file with the labels and class names"
      ],
      "execution_count": null,
      "outputs": []
    },
    {
      "cell_type": "code",
      "metadata": {
        "id": "lkw0GRmKSp8l"
      },
      "source": [
        "#run this cell if you are importing the libraries localy\n",
        "\n",
        "path = \"myData\" #folder with all the data\n",
        "labelFile = \"labels.csv\" #CSV file with the labels and class names"
      ],
      "execution_count": null,
      "outputs": []
    },
    {
      "cell_type": "code",
      "metadata": {
        "id": "zPh127kvltRD"
      },
      "source": [
        "#Set the parameters\n",
        "batchSize = 200 #set the batch size\n",
        "stepsPerEpoch = 28 #set epoch steps\n",
        "epochs = 10 #set epochs\n",
        "imageDimesions = (32,32,3) #set the dimensions of the image \n",
        "testRatio = 0.2 #set the test ratio\n",
        "validationRatio = 0.2 #set the validation ratio"
      ],
      "execution_count": null,
      "outputs": []
    },
    {
      "cell_type": "code",
      "metadata": {
        "id": "PDZw7TMkl3W8"
      },
      "source": [
        "#Import all the images\n",
        "currentClass = 0 #number of current class\n",
        "imagesPerClass = 0 #number of images per class\n",
        "imageLimit = 500 #set the limit of images per class\n",
        "\n",
        "images = [] #list of all images\n",
        "classes = [] #list of all labels per image                           \n",
        "samples = [] #list of the number of samples per class\n",
        "\n",
        "classList = os.listdir(path) #list of all the classes\n",
        "numberOfClasses = len(classList) #number of classes\n",
        "\n",
        "print(\"Total Classes Detected:\",numberOfClasses)\n",
        "print(\"Importing Classes.....\")\n",
        "\n",
        "for x in range (0, numberOfClasses):\n",
        "    imageList = os.listdir(path+\"/\"+str(currentClass))\n",
        "    for y in imageList:\n",
        "        currentImage = cv2.imread(path+\"/\"+str(currentClass)+\"/\"+y)\n",
        "        images.append(currentImage)\n",
        "        classes.append(currentClass)\n",
        "        imagesPerClass += 1\n",
        "        if (imagesPerClass == imageLimit):\n",
        "          break\n",
        "    print(\"Images in class\", currentClass, \": \", imagesPerClass)\n",
        "    samples.append(imagesPerClass)\n",
        "    currentClass += 1\n",
        "    imagesPerClass = 0\n",
        "    \n",
        "images = np.array(images)\n",
        "classes = np.array(classes)"
      ],
      "execution_count": null,
      "outputs": []
    },
    {
      "cell_type": "markdown",
      "metadata": {
        "id": "Le41C39XIgmz"
      },
      "source": [
        "# **Pre-Process The Images**"
      ]
    },
    {
      "cell_type": "code",
      "metadata": {
        "colab": {
          "base_uri": "https://localhost:8080/"
        },
        "id": "cXwPhAMWmNDz",
        "outputId": "466e954c-e5e6-4c49-a4f1-71894e267665"
      },
      "source": [
        "#Split the data\n",
        "X_train, X_test, y_train, y_test = train_test_split(images, classes, test_size = testRatio)\n",
        "X_train, X_validation, y_train, y_validation = train_test_split(X_train, y_train, test_size = validationRatio)\n",
        "\n",
        "#Show the data set shape\n",
        "print(\"Data Shapes\")\n",
        "print(\"Train\", end = \"\");print(X_train.shape, y_train.shape)\n",
        "print(\"Test\", end = \"\");print(X_test.shape, y_test.shape)\n",
        "print(\"Validation\", end = \"\");print(X_validation.shape, y_validation.shape)\n",
        " \n",
        "#Read the CSV file with the label names\n",
        "data = pd.read_csv(labelFile)\n",
        "print(\"data shape \", data.shape, type(data))"
      ],
      "execution_count": null,
      "outputs": [
        {
          "output_type": "stream",
          "text": [
            "Data Shapes\n",
            "Train(10914, 32, 32, 3) (10914,)\n",
            "Test(3411, 32, 32, 3) (3411,)\n",
            "Validation(2729, 32, 32, 3) (2729,)\n",
            "data shape  (43, 2) <class 'pandas.core.frame.DataFrame'>\n"
          ],
          "name": "stdout"
        }
      ]
    },
    {
      "cell_type": "code",
      "metadata": {
        "colab": {
          "base_uri": "https://localhost:8080/",
          "height": 295
        },
        "id": "whtBrJFgmXTj",
        "outputId": "76ae6e6c-7d4d-4463-9c4b-7ff6a2d857a2"
      },
      "source": [
        "#Display the distribution of data in all classes\n",
        "plt.figure(figsize=(12, 4))\n",
        "plt.bar(range(0, numberOfClasses), samples)\n",
        "plt.title(\"Distribution of the training dataset\")\n",
        "plt.xlabel(\"Class number\")\n",
        "plt.ylabel(\"Number of images\")\n",
        "plt.show()"
      ],
      "execution_count": null,
      "outputs": [
        {
          "output_type": "display_data",
          "data": {
            "image/png": "[encoded data removed]",
            "text/plain": [
              "<Figure size 864x288 with 1 Axes>"
            ]
          },
          "metadata": {
            "tags": [],
            "needs_background": "light"
          }
        }
      ]
    },
    {
      "cell_type": "code",
      "metadata": {
        "id": "SOV3Y4Damh9S"
      },
      "source": [
        "#Image preprocessing\n",
        "\n",
        "#Turn the image to grayscale\n",
        "def grayscale(image):\n",
        "    image = cv2.cvtColor(image, cv2.COLOR_BGR2GRAY)\n",
        "    return image\n",
        "\n",
        "#Equalize the lighting of the images\n",
        "def equalize(image):\n",
        "    image = cv2.equalizeHist(image)\n",
        "    return image\n",
        "\n",
        "#Preprocessing function\n",
        "def preprocessing(image):\n",
        "    image = grayscale(image)     \n",
        "    image = equalize(image)      \n",
        "    image = image/255 #Normalize the light levels to 0 - 1\n",
        "    return image\n",
        "\n",
        "#Preprocessing of the data images\n",
        "X_train = np.array(list(map(preprocessing, X_train)))           \n",
        "X_test = np.array(list(map(preprocessing, X_test)))             \n",
        "X_validation = np.array(list(map(preprocessing, X_validation))) \n",
        " \n",
        "#Add a depth of 1 to all data for the CNN \n",
        "X_train = X_train.reshape(X_train.shape[0], X_train.shape[1], X_train.shape[2], 1)\n",
        "X_test = X_test.reshape(X_test.shape[0], X_test.shape[1], X_test.shape[2], 1)\n",
        "X_validation = X_validation.reshape(X_validation.shape[0], X_validation.shape[1], X_validation.shape[2], 1)\n",
        " \n",
        "#Augment the images\n",
        "dataGen = ImageDataGenerator(width_shift_range = 0.1,\n",
        "                            height_shift_range = 0.1,\n",
        "                            zoom_range = 0.2,  \n",
        "                            shear_range = 0.1, #Magnitude of sheer angle\n",
        "                            rotation_range = 10) #Degrees\n",
        "\n",
        "dataGen.fit(X_train)\n",
        "batches = dataGen.flow(X_train, y_train, batch_size = 20) #Set the images batch size to the number of created images each time tis called\n",
        "X_batch, y_batch = next(batches)\n",
        " \n",
        "#Turn the labels to categorical\n",
        "y_train = to_categorical(y_train, numberOfClasses)\n",
        "y_test = to_categorical(y_test, numberOfClasses)\n",
        "y_validation = to_categorical(y_validation, numberOfClasses)"
      ],
      "execution_count": null,
      "outputs": []
    },
    {
      "cell_type": "markdown",
      "metadata": {
        "id": "_4o7YttMIqWi"
      },
      "source": [
        "# **Convolutional Neural Network**"
      ]
    },
    {
      "cell_type": "code",
      "metadata": {
        "id": "rMu3qoJNmneT"
      },
      "source": [
        "#Convolutional Neural Network Model\n",
        "def CNN():\n",
        "\n",
        "    #set the parameters\n",
        "    numberOfFilters = 64\n",
        "    sizeOfFilter = (5,5) \n",
        "    \n",
        "    sizeOfFilter2 = (3,3) \n",
        "    sizeOfPool = (2,2) #Scale down the feature map to reduce overfitting\n",
        "    numberOfNodes = 500 #Number of Nodes in the hidden layer\n",
        "\n",
        "    #start of CNN\n",
        "    model = Sequential()\n",
        "\n",
        "    #first layer\n",
        "    #frist convolution of the first layer\n",
        "    model.add((Conv2D(numberOfFilters, sizeOfFilter, input_shape = (imageDimesions[0], imageDimesions[1], 1), activation = 'relu')))\n",
        "    #pooling of the first layer\n",
        "    model.add(MaxPooling2D(pool_size = sizeOfPool))\n",
        " \n",
        "    #second layer\n",
        "    #first convolution of the second layer\n",
        "    model.add((Conv2D(numberOfFilters, sizeOfFilter2, activation = 'relu')))\n",
        "    #pooling of the second layer\n",
        "    model.add(MaxPooling2D(pool_size = sizeOfPool))\n",
        "\n",
        "    #dropout\n",
        "    model.add(Dropout(0.5))\n",
        "    model.add(Flatten())\n",
        " \n",
        "    #classification layer\n",
        "    model.add(Dense(numberOfNodes, activation = 'relu'))\n",
        "    model.add(Dropout(0.5))\n",
        "\n",
        "    #output layer\n",
        "    model.add(Dense(numberOfClasses, activation = 'softmax'))\n",
        "\n",
        "    #Compile the model\n",
        "    model.compile(Adam(lr = 0.001), loss = 'categorical_crossentropy', metrics = ['accuracy'])\n",
        "    return model"
      ],
      "execution_count": null,
      "outputs": []
    },
    {
      "cell_type": "code",
      "metadata": {
        "id": "09NQKE855KDX"
      },
      "source": [
        "#Train the CNN\n",
        "model = CNN()\n",
        "print(model.summary())\n",
        "history = model.fit(X_train, y_train, steps_per_epoch = stepsPerEpoch, epochs = epochs, validation_data = (X_validation, y_validation), shuffle=1)\n",
        "\n",
        "#Plot the results\n",
        "plt.figure(1)\n",
        "plt.plot(history.history['loss'])\n",
        "plt.plot(history.history['val_loss'])\n",
        "plt.legend(['training', 'validation'])\n",
        "plt.title('loss')\n",
        "plt.xlabel('epoch')\n",
        "plt.figure(2)\n",
        "plt.plot(history.history['accuracy'])\n",
        "plt.plot(history.history['val_accuracy'])\n",
        "plt.legend(['training', 'validation'])\n",
        "plt.title('Acurracy')\n",
        "plt.xlabel('epoch')\n",
        "plt.show()\n",
        "\n",
        "#Evaluate the model\n",
        "score = model.evaluate(X_test, y_test, verbose=0)\n",
        "print('Test Score:', score[0])\n",
        "print('Test Accuracy:', score[1])"
      ],
      "execution_count": null,
      "outputs": []
    },
    {
      "cell_type": "markdown",
      "metadata": {
        "id": "VXrVHUYqI7zq"
      },
      "source": [
        "# **Convolutional Fuzzy Neural Network**"
      ]
    },
    {
      "cell_type": "code",
      "metadata": {
        "id": "ZhzfzAfAiN0Q"
      },
      "source": [
        "#fuzzy layer\n",
        "\n",
        "class FuzzyLayer(Layer):\n",
        "\n",
        "    #initialize the fuzzy layer\n",
        "    def __init__(self, \n",
        "                 output_dim, \n",
        "                 initializer_centers=None,\n",
        "                 initializer_sigmas=None, \n",
        "                 **kwargs):\n",
        "        if 'input_shape' not in kwargs and 'input_dim' in kwargs:\n",
        "            kwargs['input_shape'] = (kwargs.pop('input_dim'),)\n",
        "        #set the parameters\n",
        "        self.output_dim = output_dim\n",
        "        self.initializer_centers = initializer_centers\n",
        "        self.initializer_sigmas = initializer_sigmas\n",
        "        super(FuzzyLayer, self).__init__(**kwargs)\n",
        "\n",
        "    #build the layer\n",
        "    def build(self, input_shape):\n",
        "        self.input_dimensions = list(input_shape)[:-1:-1]\n",
        "\n",
        "        #update centers\n",
        "        self.c = self.add_weight(name='c', \n",
        "                                 shape=(input_shape[-1], self.output_dim),\n",
        "                                 initializer = self.initializer_centers if self.initializer_centers is not None else 'uniform',\n",
        "                                 trainable=True)\n",
        "        \n",
        "        #update sigmas\n",
        "        self.a = self.add_weight(name='a', \n",
        "                                 shape=(input_shape[-1], self.output_dim),\n",
        "                                 initializer = self.initializer_sigmas if self.initializer_sigmas is not None else 'ones',\n",
        "                                 trainable=True)\n",
        "        super(FuzzyLayer, self).build(input_shape)  \n",
        "\n",
        "    #call function\n",
        "    def call(self, x):\n",
        "        \n",
        "        aligned_x = K.repeat_elements(K.expand_dims(x, axis = -1), self.output_dim, -1)\n",
        "        aligned_c = self.c\n",
        "        aligned_a = self.a\n",
        "        for dim in self.input_dimensions:\n",
        "            aligned_c = K.repeat_elements(K.expand_dims(aligned_c, 0), dim, 0)\n",
        "            aligned_a = K.repeat_elements(K.expand_dims(aligned_a, 0), dim, 0)\n",
        "\n",
        "        #compute membership\n",
        "        xc = K.exp(-K.sum(K.square((aligned_x - aligned_c) / (2 * aligned_a)), axis=-2, keepdims=False))\n",
        "        return xc\n",
        "        \n",
        "    def compute_output_shape(self, input_shape):\n",
        "        return tuple(input_shape[:-1]) + (self.output_dim,)"
      ],
      "execution_count": null,
      "outputs": []
    },
    {
      "cell_type": "code",
      "metadata": {
        "id": "eIRNp5sbjg0A"
      },
      "source": [
        "#defuzzy layer\n",
        "\n",
        "class DefuzzyLayer(Layer):\n",
        "\n",
        "    #initialize the Defuzzy layer\n",
        "    def __init__(self, \n",
        "                 output_dim, \n",
        "                 initializer_rules_outcome=None,\n",
        "                 **kwargs):\n",
        "        if 'input_shape' not in kwargs and 'input_dim' in kwargs:\n",
        "            kwargs['input_shape'] = (kwargs.pop('input_dim'),)\n",
        "        #set parameters\n",
        "        self.output_dim = output_dim\n",
        "        self.initializer_rules_outcome = initializer_rules_outcome\n",
        "        super(DefuzzyLayer, self).__init__(**kwargs)\n",
        "\n",
        "    #build the layer\n",
        "    def build(self, input_shape):\n",
        "        self.input_dimensions = list(input_shape)[:-1:-1]\n",
        "\n",
        "        #update the rules\n",
        "        self.rules_outcome = self.add_weight(name='rules_outcome', \n",
        "                                 shape=(input_shape[1], self.output_dim),\n",
        "                                 initializer= self.initializer_rules_outcome if self.initializer_rules_outcome is not None else 'uniform',\n",
        "                                 trainable=True)\n",
        "        \n",
        "        super(DefuzzyLayer, self).build(input_shape)  \n",
        "\n",
        "    #call function\n",
        "    def call(self, x):\n",
        "        aligned_x = K.repeat_elements(K.expand_dims(x, axis = -1), self.output_dim, -1)\n",
        "        aligned_rules_outcome = self.rules_outcome\n",
        "        for dim in self.input_dimensions:\n",
        "            aligned_rules_outcome = K.repeat_elements(K.expand_dims(aligned_rules_outcome, 0), dim, 0)\n",
        "        \n",
        "        #turn the output in continous format\n",
        "        xc = K.sum((aligned_x * aligned_rules_outcome), axis=-2, keepdims=False)\n",
        "        return xc\n",
        "        \n",
        "    def compute_output_shape(self, input_shape):\n",
        "        return tuple(input_shape[:-1]) + (self.output_dim,)"
      ],
      "execution_count": null,
      "outputs": []
    },
    {
      "cell_type": "code",
      "metadata": {
        "id": "XqxhrpKaKWDq"
      },
      "source": [
        "#Convolutional Neural Network Model\n",
        "def CFNN():\n",
        "\n",
        "    #set the parameters\n",
        "    numberOfFilters = 64\n",
        "    sizeOfFilter = (5,5) \n",
        "    \n",
        "    sizeOfFilter2 = (3,3) \n",
        "    sizeOfPool = (2,2)     #Scale down the feature map to reduce overfitting\n",
        "    numberOfNodes = 500    #Number of Nodes in the hidden layer\n",
        "\n",
        "    #start of CNN\n",
        "    model = Sequential()\n",
        "\n",
        "    #first layer\n",
        "    #convolution of the first layer\n",
        "    model.add((Conv2D(numberOfFilters, sizeOfFilter, input_shape = (imageDimesions[0], imageDimesions[1], 1), activation = 'relu')))\n",
        "    #pooling of the first layer\n",
        "    model.add(MaxPooling2D(pool_size = sizeOfPool))\n",
        "\n",
        "    #second layer\n",
        "    #convolution of the second layer\n",
        "    model.add((Conv2D(numberOfFilters, sizeOfFilter2, activation = 'relu')))\n",
        "    #pooling of the second layer\n",
        "    model.add(MaxPooling2D(pool_size = sizeOfPool))\n",
        "\n",
        "    #dropout\n",
        "    model.add(Dropout(0.5))\n",
        "\n",
        "    #fuzzy layer\n",
        "    model.add(FuzzyLayer(numberOfClasses))\n",
        "    model.add(Flatten())\n",
        "    \n",
        "    model.add(Dense(numberOfClasses, activation = 'sigmoid'))\n",
        "    model.add(DefuzzyLayer(numberOfClasses))\n",
        " \n",
        "    #classification layer\n",
        "    model.add(Dense(numberOfNodes, activation = 'relu'))\n",
        "    model.add(Dropout(0.5))\n",
        "\n",
        "    #output layer\n",
        "    model.add(Dense(numberOfClasses, activation = 'softmax'))\n",
        "\n",
        "    #Compile the model\n",
        "    model.compile(loss='logcosh',\n",
        "              optimizer='rmsprop',\n",
        "              metrics=['mae', 'accuracy'])\n",
        "    return model"
      ],
      "execution_count": null,
      "outputs": []
    },
    {
      "cell_type": "code",
      "metadata": {
        "id": "ZVpmZuzbedDv"
      },
      "source": [
        "model = CFNN()\n",
        "print(model.summary())\n",
        "history = model.fit(X_train, y_train, steps_per_epoch = stepsPerEpoch, epochs = epochs, verbose=1, validation_data = (X_validation, y_validation), shuffle=1)\n",
        "\n",
        "#Plot the results\n",
        "plt.figure(1)\n",
        "plt.plot(history.history['loss'])\n",
        "plt.plot(history.history['val_loss'])\n",
        "plt.legend(['training', 'validation'])\n",
        "plt.title('loss')\n",
        "plt.xlabel('epoch')\n",
        "plt.figure(2)\n",
        "plt.plot(history.history['acc'])\n",
        "plt.plot(history.history['val_acc'])\n",
        "plt.legend(['training', 'validation'])\n",
        "plt.title('Acurracy')\n",
        "plt.xlabel('epoch')\n",
        "plt.show()\n",
        "\n",
        "#Evaluate the model\n",
        "prediction = model.predict(X_test)\n",
        "accuracy = 0\n",
        "\n",
        "for i in range(prediction.shape[0]):\n",
        "  maxValue = max(prediction[i])\n",
        "  indexAccuracy = 0\n",
        "  for j in range(prediction.shape[1]):\n",
        "    if (prediction[i][j] < maxValue):\n",
        "      prediction[i][j] = 0\n",
        "    else:\n",
        "      prediction[i][j] = 1\n",
        "    \n",
        "    if (y_test[i][j] == prediction[i][j]):\n",
        "      indexAccuracy += 1\n",
        "    \n",
        "  if (indexAccuracy == 43):\n",
        "    accuracy += 1\n",
        "\n",
        "print(\"Test Accuracy: \", accuracy/y_test.shape[0])"
      ],
      "execution_count": null,
      "outputs": []
    },
    {
      "cell_type": "markdown",
      "metadata": {
        "id": "TZPK1vLgJOXa"
      },
      "source": [
        "# **Genetic Convolutional Neural Network**"
      ]
    },
    {
      "cell_type": "code",
      "metadata": {
        "id": "vXqAq5MXO5kx"
      },
      "source": [
        "#genetic algorithm\n",
        "\n",
        "#initialize variables\n",
        "generations = epochs\n",
        "numberOfOffsprings = 5\n",
        "mutateFactor = 0.1\n",
        "offsprings = []\n",
        "\n",
        "#layers index\n",
        "layers = [0, 2, 5, 7]\n",
        "\n",
        "#mutate a single offspring\n",
        "def mutate(newOffspring):\n",
        "  \n",
        "  #change the bias\n",
        "  for i in layers:\n",
        "    for bias in range(len(newOffspring.layers[i].get_weights()[1])):\n",
        "      n = random.random()\n",
        "      if (n < mutateFactor):\n",
        "        newOffspring.layers[i].get_weights()[1][bias] *= random.uniform(-0.5, 0.5)\n",
        "\n",
        "  #change the weights\n",
        "  for i in layers:\n",
        "    for weight in range(len(newOffspring.layers[i].get_weights()[0])):\n",
        "      n = random.random()\n",
        "      if (n < mutateFactor):\n",
        "        newOffspring.layers[i].get_weights()[0][weight] *= random.uniform(-0.5, 0.5)\n",
        "\n",
        "  #return the mutated offspring\n",
        "  return newOffspring\n",
        "\n",
        "#crossover the offsprings\n",
        "def crossover(offsprings):\n",
        "  newOffsprings = []\n",
        "\n",
        "  #the 2 elitists continue to the next generation\n",
        "  newOffsprings.append(offsprings[0])\n",
        "  newOffsprings.append(offsprings[1])\n",
        "\n",
        "  #all the rest offsprings get crossed over and mutated\n",
        "  for i in range(2, numberOfOffsprings):\n",
        "    if (i < (numberOfOffsprings - 2)):\n",
        "      #select the parents for the new offspring\n",
        "      if (i == 2):\n",
        "        parentA = random.choice(offsprings[:3])\n",
        "        parentB = random.choice(offsprings[:3])\n",
        "      else:\n",
        "        parentA = random.choice(offsprings[:])\n",
        "        parentB = random.choice(offsprings[:])\n",
        "\n",
        "      #change the weights of parent A with those of parent B\n",
        "      for i in layers:\n",
        "        temp = parentA.layers[i].get_weights()[1]\n",
        "        parentA.layers[i].get_weights()[1] = parentB.layers[i].get_weights()[1]\n",
        "        parentB.layers[i].get_weights()[1] = temp\n",
        "\n",
        "        newOffspring = random.choice([parentA, parentB])\n",
        "    else:\n",
        "      newOffspring = random.choice(offsprings[:])\n",
        "\n",
        "    #mutate the new offspring\n",
        "    newOffsprings.append(mutate(newOffspring))\n",
        "\n",
        "  #return the next generation\n",
        "  return newOffsprings\n",
        "\n",
        "#evolve the offsprings\n",
        "def evolve(offsprings, losses):\n",
        "\n",
        "  #sort the offsprings best to worst for elitism\n",
        "  elitismList = sorted(range(len(losses)),key=lambda x:losses[x])\n",
        "  offsprings = [offsprings[i] for i in elitismList]\n",
        "\n",
        "  #start the next generation\n",
        "  newOffsprings = crossover(offsprings)\n",
        "\n",
        "  return newOffsprings"
      ],
      "execution_count": null,
      "outputs": []
    },
    {
      "cell_type": "code",
      "metadata": {
        "id": "hRNHwJlTBDJV"
      },
      "source": [
        "#train the models\n",
        "def train(models):\n",
        "  \n",
        "  losses = []\n",
        "    \n",
        "  for i in range(len(models)):\n",
        "    history = models[i].fit(X_train, y_train, epochs=1, validation_data = (X_test, y_test))\n",
        "    losses.append(round(history.history['loss'][-1], 4))\n",
        "      \n",
        "  return models, losses\n",
        "\n",
        "#Evaluate the best model\n",
        "def test(model):\n",
        "  score = model.evaluate(X_test, y_test, verbose=0)\n",
        "  print('Test Score:', score[0]) \n",
        "  print('Test Accuracy:', score[1])"
      ],
      "execution_count": null,
      "outputs": []
    },
    {
      "cell_type": "code",
      "metadata": {
        "id": "0qG0Qec8_Szg"
      },
      "source": [
        "#set each offspring with a CNN model\n",
        "for i in range(numberOfOffsprings):\n",
        "  offsprings.append(CNN())\n",
        "\n",
        "#print the model summary\n",
        "print(offsprings[0].summary())\n",
        "\n",
        "#start the Genetic Algorithm\n",
        "for generation in range(generations):\n",
        "  print('Generation:', generation+1, '/', generations)\n",
        "  offsprings, losses = train(offsprings)\n",
        "\n",
        "  #compute the next generation\n",
        "  offsprings = evolve(offsprings, losses)\n",
        "\n",
        "#evaluate the best model (Elitist)\n",
        "test(offsprings[0])"
      ],
      "execution_count": null,
      "outputs": []
    },
    {
      "cell_type": "markdown",
      "metadata": {
        "id": "Uap1g3BdZsdk"
      },
      "source": [
        "# **Genetic Convolutinal Fuzzy Neural Network**"
      ]
    },
    {
      "cell_type": "code",
      "metadata": {
        "id": "jjBqOSZDXtfq"
      },
      "source": [
        "#Evaluate the model\n",
        "def testFuzzy(model):\n",
        "  prediction = model.predict(X_test)\n",
        "  accuracy = 0\n",
        "\n",
        "  for i in range(prediction.shape[0]):\n",
        "    maxValue = max(prediction[i])\n",
        "    indexAccuracy = 0\n",
        "    for j in range(prediction.shape[1]):\n",
        "      if (prediction[i][j] < maxValue):\n",
        "        prediction[i][j] = 0\n",
        "      else:\n",
        "        prediction[i][j] = 1\n",
        "      \n",
        "      if (y_test[i][j] == prediction[i][j]):\n",
        "        indexAccuracy += 1\n",
        "      \n",
        "    if (indexAccuracy == 43):\n",
        "      accuracy += 1\n",
        "\n",
        "  print(\"Test Accuracy: \", accuracy/y_test.shape[0])"
      ],
      "execution_count": null,
      "outputs": []
    },
    {
      "cell_type": "code",
      "metadata": {
        "id": "NfegJICc-0oM"
      },
      "source": [
        "#layers index\n",
        "layers = [0, 2, 5, 7, 9]\n",
        "\n",
        "#initialize each offspring with a CNN model\n",
        "for i in range(numberOfOffsprings):\n",
        "  offsprings.append(CFNN())\n",
        "\n",
        "#print the model summary\n",
        "print(offsprings[0].summary())\n",
        "\n",
        "#start the Genetic Algorithm\n",
        "for generation in range(generations):\n",
        "  print('Generation:', generation+1, '/', generations)\n",
        "  offsprings, losses = train(offsprings)\n",
        "\n",
        "  #compute the next generation\n",
        "  offsprings = evolve(offsprings, losses)\n",
        "\n",
        "#evaluate the best model (Elitist)\n",
        "testFuzzy(offsprings[0])"
      ],
      "execution_count": null,
      "outputs": []
    }
  ]
}