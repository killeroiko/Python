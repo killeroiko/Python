{
  "nbformat": 4,
  "nbformat_minor": 0,
  "metadata": {
    "kernelspec": {
      "display_name": "Python 3",
      "language": "python",
      "name": "python3"
    },
    "language_info": {
      "codemirror_mode": {
        "name": "ipython",
        "version": 3
      },
      "file_extension": ".py",
      "mimetype": "text/x-python",
      "name": "python",
      "nbconvert_exporter": "python",
      "pygments_lexer": "ipython3",
      "version": "3.7.10"
    },
    "colab": {
      "name": "EnsembleMethods.ipynb",
      "provenance": [],
      "collapsed_sections": [],
      "toc_visible": true
    }
  },
  "cells": [
    {
      "cell_type": "markdown",
      "metadata": {
        "id": "jEWgPFND3gOD"
      },
      "source": [
        "## About iPython Notebooks ##\n",
        "\n",
        "iPython Notebooks are interactive coding environments embedded in a webpage. You will be using iPython notebooks in this class. Make sure you fill in any place that says `# BEGIN CODE HERE #END CODE HERE`. After writing your code, you can run the cell by either pressing \"SHIFT\"+\"ENTER\" or by clicking on \"Run\" (denoted by a play symbol). Before you turn this problem in, make sure everything runs as expected. First, **restart the kernel** (in the menubar, select Kernel$\\rightarrow$Restart) and then **run all cells** (in the menubar, select Cell$\\rightarrow$Run All). \n",
        "\n",
        " **What you need to remember:**\n",
        "\n",
        "- Run your cells using SHIFT+ENTER (or \"Run cell\")\n",
        "- Write code in the designated areas using Python 3 only\n",
        "- Do not modify the code outside of the designated areas\n",
        "- In some cases you will also need to explain the results. There will also be designated areas for that. \n",
        "\n",
        "Fill in your **NAME** and **AEM** below:"
      ]
    },
    {
      "cell_type": "code",
      "metadata": {
        "id": "QjQ1y9NF3gOL"
      },
      "source": [
        "NAME = \"Konstantinos Oikonomou\"\n",
        "AEM = \"3279\""
      ],
      "execution_count": null,
      "outputs": []
    },
    {
      "cell_type": "markdown",
      "metadata": {
        "id": "TK1YM_tL3gOM"
      },
      "source": [
        "---"
      ]
    },
    {
      "cell_type": "markdown",
      "metadata": {
        "deletable": false,
        "editable": false,
        "nbgrader": {
          "cell_type": "markdown",
          "checksum": "1da26a63e48275bf64ed3608a92f75ac",
          "grade": false,
          "grade_id": "cell-28329c89a3d9ebb8",
          "locked": true,
          "schema_version": 3,
          "solution": false,
          "task": false
        },
        "id": "5O9y-Ut23gOM"
      },
      "source": [
        "# Assignment 3 - Ensemble Methods #"
      ]
    },
    {
      "cell_type": "markdown",
      "metadata": {
        "deletable": false,
        "editable": false,
        "nbgrader": {
          "cell_type": "markdown",
          "checksum": "2e378be0e0c4ed85ebc6bcc53e256aa5",
          "grade": false,
          "grade_id": "cell-17ca53188deb1a2b",
          "locked": true,
          "schema_version": 3,
          "solution": false,
          "task": false
        },
        "id": "us8tcyBQ3gOM"
      },
      "source": [
        "Welcome to your third assignment. This exercise will test your understanding on Ensemble Methods."
      ]
    },
    {
      "cell_type": "code",
      "metadata": {
        "deletable": false,
        "editable": false,
        "nbgrader": {
          "cell_type": "code",
          "checksum": "7fb9c467676bec1973d8e90bb815e23f",
          "grade": false,
          "grade_id": "cell-1a33a1efbf02238c",
          "locked": true,
          "schema_version": 3,
          "solution": false,
          "task": false
        },
        "id": "oVf4OH493gON"
      },
      "source": [
        "# Always run this cell\n",
        "import numpy as np\n",
        "import pandas as pd\n",
        "\n",
        "from sklearn.ensemble import AdaBoostClassifier, RandomForestClassifier, GradientBoostingClassifier, VotingClassifier, StackingClassifier\n",
        "from sklearn.metrics import accuracy_score, f1_score\n",
        "from sklearn.tree import DecisionTreeClassifier\n",
        "from sklearn.neighbors import KNeighborsClassifier\n",
        "from sklearn.naive_bayes import GaussianNB\n",
        "from sklearn.model_selection import KFold\n",
        "from sklearn.model_selection import cross_val_score\n",
        "from statistics import mean\n",
        "\n",
        "# USE THE FOLLOWING RANDOM STATE FOR YOUR CODE\n",
        "RANDOM_STATE = 42"
      ],
      "execution_count": null,
      "outputs": []
    },
    {
      "cell_type": "markdown",
      "metadata": {
        "deletable": false,
        "editable": false,
        "nbgrader": {
          "cell_type": "markdown",
          "checksum": "aa2d11566658cb0f6d5ea19212a619de",
          "grade": false,
          "grade_id": "cell-7210caf6b2891007",
          "locked": true,
          "schema_version": 3,
          "solution": false,
          "task": false
        },
        "id": "lJ0FpGT63gON"
      },
      "source": [
        "## Download the Dataset ##\n",
        "Download the dataset using the following cell or from this [link](https://github.com/sakrifor/public/tree/master/machine_learning_course/EnsembleDataset) and put the files in the same folder as the .ipynb file. \n",
        "In this assignment you are going to work with a dataset originated from the [ImageCLEFmed: The Medical Task 2016](https://www.imageclef.org/2016/medical) and the **Compound figure detection** subtask. The goal of this subtask is to identify whether a figure is a compound figure (one image consists of more than one figure) or not. The train dataset consits of 4197 examples/figures and each figure has 4096 features which were extracted using a deep neural network. The *CLASS* column represents the class of each example where 1 is a compoung figure and 0 is not. \n"
      ]
    },
    {
      "cell_type": "code",
      "metadata": {
        "deletable": false,
        "editable": false,
        "nbgrader": {
          "cell_type": "code",
          "checksum": "c426c8680b4b28c9595139bec1d32f27",
          "grade": false,
          "grade_id": "cell-a413577b7685bfbe",
          "locked": true,
          "schema_version": 3,
          "solution": false,
          "task": false
        },
        "colab": {
          "base_uri": "https://localhost:8080/"
        },
        "id": "AI_dkjQN3gOO",
        "outputId": "6f005222-83b7-442a-91a1-d1dc048039b3"
      },
      "source": [
        "import urllib.request\n",
        "url_train = 'https://github.com/sakrifor/public/raw/master/machine_learning_course/EnsembleDataset/train_set.csv'\n",
        "filename_train = 'train_set.csv'\n",
        "urllib.request.urlretrieve(url_train, filename_train)\n",
        "url_test = 'https://github.com/sakrifor/public/raw/master/machine_learning_course/EnsembleDataset/test_set_noclass.csv'\n",
        "filename_test = 'test_set_noclass.csv'\n",
        "urllib.request.urlretrieve(url_test, filename_test)"
      ],
      "execution_count": null,
      "outputs": [
        {
          "output_type": "execute_result",
          "data": {
            "text/plain": [
              "('test_set_noclass.csv', <http.client.HTTPMessage at 0x7eff512b80d0>)"
            ]
          },
          "metadata": {
            "tags": []
          },
          "execution_count": 3
        }
      ]
    },
    {
      "cell_type": "code",
      "metadata": {
        "deletable": false,
        "editable": false,
        "nbgrader": {
          "cell_type": "code",
          "checksum": "5e073a9f617d5e2e192ef70d370f000b",
          "grade": false,
          "grade_id": "cell-cbadea205635117c",
          "locked": true,
          "schema_version": 3,
          "solution": false,
          "task": false
        },
        "id": "xrUkjCB33gOO"
      },
      "source": [
        "# Run this cell to load the data\n",
        "train_set = pd.read_csv(\"train_set.csv\").sample(frac=1).reset_index(drop=True)\n",
        "train_set.head()\n",
        "X = train_set.drop(columns=['CLASS'])\n",
        "y = train_set['CLASS'].values"
      ],
      "execution_count": null,
      "outputs": []
    },
    {
      "cell_type": "markdown",
      "metadata": {
        "deletable": false,
        "editable": false,
        "nbgrader": {
          "cell_type": "markdown",
          "checksum": "e5c0ed51001ec5b7e6cdcef1303473e7",
          "grade": false,
          "grade_id": "cell-4f509bca5cb87e84",
          "locked": true,
          "schema_version": 3,
          "solution": false,
          "task": false
        },
        "id": "hgxuyMb-3gOP"
      },
      "source": [
        "## 1.0 Testing different ensemble methods ##\n",
        "In this part of the assignment you are asked to create and test different ensemble methods using the train_set.csv dataset. You should use **10-fold cross validation** for your tests and report the average f-measure and accuracy of your models.\n",
        "\n",
        "### !!! Use n_jobs=-1 where is posibble to use all the cores of a machine for running your tests ###"
      ]
    },
    {
      "cell_type": "markdown",
      "metadata": {
        "deletable": false,
        "editable": false,
        "nbgrader": {
          "cell_type": "markdown",
          "checksum": "5d56eafac9ce59f34521ab931a24e9c8",
          "grade": false,
          "grade_id": "cell-db7468662add40fe",
          "locked": true,
          "schema_version": 3,
          "solution": false,
          "task": false
        },
        "id": "nBJBUKGt3gOP"
      },
      "source": [
        "### 1.1 Voting ###\n",
        "Create a voting classifier which uses three estimators/classifiers. Test both soft and hard voting and choose the best one."
      ]
    },
    {
      "cell_type": "code",
      "metadata": {
        "deletable": false,
        "nbgrader": {
          "cell_type": "code",
          "checksum": "bbf11fd8382f22bddabe61416516e7be",
          "grade": true,
          "grade_id": "cell-3a1719cdb031d112",
          "locked": false,
          "points": 10,
          "schema_version": 3,
          "solution": true,
          "task": false
        },
        "id": "AtbBaX7P3gOP"
      },
      "source": [
        "# BEGIN CODE HERE\n",
        "\n",
        "cls1 = AdaBoostClassifier(n_estimators=10, random_state=RANDOM_STATE) # Classifier #1 \n",
        "cls2 = RandomForestClassifier(n_estimators=10, random_state=RANDOM_STATE) # Classifier #2 \n",
        "cls3 = GradientBoostingClassifier(n_estimators=10, learning_rate=1.0, max_depth=5, random_state=RANDOM_STATE) # Classifier #1\n",
        "vcls = VotingClassifier(estimators=[('ab', cls1), ('rf', cls2), ('gb', cls3)], voting='soft') # Voting Classifier\n",
        "\n",
        "#Hard: F-Score 81.86%, Accuracy 78.19% \n",
        "#Sort: F-Score 82.13%, Accuracy 78.31% \n",
        "\n",
        "cls1.fit(X, y)\n",
        "cls2.fit(X, y)\n",
        "cls3.fit(X, y)\n",
        "vcls.fit(X, y)\n",
        "\n",
        "cv = KFold(n_splits=10, random_state=RANDOM_STATE, shuffle=True)\n",
        "\n",
        "fmeasure = cross_val_score(vcls, X, y, scoring='f1', cv=cv, n_jobs=-1)\n",
        "avg_fmeasure = mean(fmeasure) # The average f-measure\n",
        "\n",
        "accuracy = cross_val_score(vcls, X, y, scoring='accuracy', cv=cv, n_jobs=-1)\n",
        "avg_accuracy = mean(accuracy) # The average accuracy \n",
        "\n",
        "#END CODE HERE"
      ],
      "execution_count": null,
      "outputs": []
    },
    {
      "cell_type": "code",
      "metadata": {
        "deletable": false,
        "editable": false,
        "nbgrader": {
          "cell_type": "code",
          "checksum": "2f0e52e5eea2eb2cb23380c80ff846cf",
          "grade": false,
          "grade_id": "cell-0ef59e80595937ed",
          "locked": true,
          "schema_version": 3,
          "solution": false,
          "task": false
        },
        "id": "x_v4dzLY3gOQ",
        "colab": {
          "base_uri": "https://localhost:8080/"
        },
        "outputId": "79284c14-30bb-4470-dd67-41384fb6f28e"
      },
      "source": [
        "print(\"Classifier:\")\n",
        "print(vcls)\n",
        "print(\"F1-Score:{} & Accuracy:{}\".format(avg_fmeasure,avg_accuracy))"
      ],
      "execution_count": null,
      "outputs": [
        {
          "output_type": "stream",
          "text": [
            "Classifier:\n",
            "VotingClassifier(estimators=[('ab',\n",
            "                              AdaBoostClassifier(algorithm='SAMME.R',\n",
            "                                                 base_estimator=None,\n",
            "                                                 learning_rate=1.0,\n",
            "                                                 n_estimators=10,\n",
            "                                                 random_state=42)),\n",
            "                             ('rf',\n",
            "                              RandomForestClassifier(bootstrap=True,\n",
            "                                                     ccp_alpha=0.0,\n",
            "                                                     class_weight=None,\n",
            "                                                     criterion='gini',\n",
            "                                                     max_depth=None,\n",
            "                                                     max_features='auto',\n",
            "                                                     max_leaf_nodes=None,\n",
            "                                                     max_samples=None,\n",
            "                                                     min_impurity_decrease=0.0,\n",
            "                                                     min_impurity_...\n",
            "                                                         max_leaf_nodes=None,\n",
            "                                                         min_impurity_decrease=0.0,\n",
            "                                                         min_impurity_split=None,\n",
            "                                                         min_samples_leaf=1,\n",
            "                                                         min_samples_split=2,\n",
            "                                                         min_weight_fraction_leaf=0.0,\n",
            "                                                         n_estimators=10,\n",
            "                                                         n_iter_no_change=None,\n",
            "                                                         presort='deprecated',\n",
            "                                                         random_state=42,\n",
            "                                                         subsample=1.0,\n",
            "                                                         tol=0.0001,\n",
            "                                                         validation_fraction=0.1,\n",
            "                                                         verbose=0,\n",
            "                                                         warm_start=False))],\n",
            "                 flatten_transform=True, n_jobs=None, voting='hard',\n",
            "                 weights=None)\n",
            "F1-Score:0.8186760038150229 & Accuracy:0.7819485168769178\n"
          ],
          "name": "stdout"
        }
      ]
    },
    {
      "cell_type": "markdown",
      "metadata": {
        "deletable": false,
        "editable": false,
        "nbgrader": {
          "cell_type": "markdown",
          "checksum": "8c7e6ab511ff3a546d2e2efb5feb892f",
          "grade": false,
          "grade_id": "cell-f6d620a3fd102626",
          "locked": true,
          "schema_version": 3,
          "solution": false,
          "task": false
        },
        "id": "t2SWKtnZ3gOQ"
      },
      "source": [
        "### 1.2 Stacking ###\n",
        "Create a stacking classifier which uses two estimators/classifiers. Try different classifiers for the combination of the initial classifiers. Report your results in the following cell."
      ]
    },
    {
      "cell_type": "code",
      "metadata": {
        "deletable": false,
        "nbgrader": {
          "cell_type": "code",
          "checksum": "bc7e22a168b668cbd10c524297950133",
          "grade": true,
          "grade_id": "cell-2ae5e38bd546681e",
          "locked": false,
          "points": 10,
          "schema_version": 3,
          "solution": true,
          "task": false
        },
        "id": "cBGgrrP83gOQ"
      },
      "source": [
        "# BEGIN CODE HERE\n",
        "\n",
        "#cls1 = AdaBoostClassifier(n_estimators=10, random_state=RANDOM_STATE)\n",
        "cls1 = RandomForestClassifier(n_estimators=10, random_state=RANDOM_STATE) # Classifier #1 \n",
        "cls2 = GradientBoostingClassifier(n_estimators=10, learning_rate=1.0, max_depth=5, random_state=RANDOM_STATE) # Classifier #2 \n",
        "scls = StackingClassifier(estimators=[('rf', cls1), ('gb', cls2)]) # Stacking Classifier\n",
        "\n",
        "cls1.fit(X, y)\n",
        "cls2.fit(X, y)\n",
        "scls.fit(X, y)\n",
        "\n",
        "cv = KFold(n_splits=10, random_state=RANDOM_STATE, shuffle=True)\n",
        "\n",
        "fmeasure = cross_val_score(scls, X, y, scoring='f1', cv=cv, n_jobs=-1)\n",
        "avg_fmeasure = mean(fmeasure)\n",
        "\n",
        "accuracy = cross_val_score(scls, X, y, scoring='accuracy', cv=cv, n_jobs=-1)\n",
        "avg_accuracy = mean(accuracy)\n",
        "\n",
        "#END CODE HERE"
      ],
      "execution_count": null,
      "outputs": []
    },
    {
      "cell_type": "code",
      "metadata": {
        "deletable": false,
        "editable": false,
        "nbgrader": {
          "cell_type": "code",
          "checksum": "1a27a3122627aed7d5a6f5678055f712",
          "grade": false,
          "grade_id": "cell-6d6cadab378a2b03",
          "locked": true,
          "schema_version": 3,
          "solution": false,
          "task": false
        },
        "id": "gIBBuWxK3gOR",
        "colab": {
          "base_uri": "https://localhost:8080/"
        },
        "outputId": "282ce5c9-27a9-4d54-a5b2-42d355d5c92b"
      },
      "source": [
        "print(\"Classifier:\")\n",
        "print(scls)\n",
        "print(\"F1-Score:{} & Accuracy:{}\".format(avg_fmeasure,avg_accuracy))"
      ],
      "execution_count": null,
      "outputs": [
        {
          "output_type": "stream",
          "text": [
            "Classifier:\n",
            "StackingClassifier(cv=None,\n",
            "                   estimators=[('ab',\n",
            "                                AdaBoostClassifier(algorithm='SAMME.R',\n",
            "                                                   base_estimator=None,\n",
            "                                                   learning_rate=1.0,\n",
            "                                                   n_estimators=10,\n",
            "                                                   random_state=42)),\n",
            "                               ('gb',\n",
            "                                RandomForestClassifier(bootstrap=True,\n",
            "                                                       ccp_alpha=0.0,\n",
            "                                                       class_weight=None,\n",
            "                                                       criterion='gini',\n",
            "                                                       max_depth=None,\n",
            "                                                       max_features='auto',\n",
            "                                                       max_leaf_nodes=None,\n",
            "                                                       max_samples=None,\n",
            "                                                       min_impurity_decrease=0.0,\n",
            "                                                       min_impurity_split=None,\n",
            "                                                       min_samples_leaf=1,\n",
            "                                                       min_samples_split=2,\n",
            "                                                       min_weight_fraction_leaf=0.0,\n",
            "                                                       n_estimators=10,\n",
            "                                                       n_jobs=None,\n",
            "                                                       oob_score=False,\n",
            "                                                       random_state=42,\n",
            "                                                       verbose=0,\n",
            "                                                       warm_start=False))],\n",
            "                   final_estimator=None, n_jobs=None, passthrough=False,\n",
            "                   stack_method='auto', verbose=0)\n",
            "F1-Score:0.8184980142196326 & Accuracy:0.7769507898624843\n"
          ],
          "name": "stdout"
        }
      ]
    },
    {
      "cell_type": "markdown",
      "metadata": {
        "deletable": false,
        "editable": false,
        "nbgrader": {
          "cell_type": "markdown",
          "checksum": "a6b0c745a12e384341f4e246c5242d25",
          "grade": false,
          "grade_id": "cell-8a05446ba9a944c3",
          "locked": true,
          "schema_version": 3,
          "solution": false,
          "task": false
        },
        "id": "qi8QFPJU3gOR"
      },
      "source": [
        "### 1.3 Report the results ###  \n",
        "Report the results of your experiments in the following cell. How did you choose your initial classifiers? "
      ]
    },
    {
      "cell_type": "markdown",
      "metadata": {
        "deletable": false,
        "nbgrader": {
          "cell_type": "markdown",
          "checksum": "e3da261e2e18ede4c057e21e080b9bac",
          "grade": true,
          "grade_id": "cell-1522ee0b7c414fba",
          "locked": false,
          "points": 5,
          "schema_version": 3,
          "solution": true,
          "task": false
        },
        "id": "b3nhibdp3gOR"
      },
      "source": [
        "AdaBoost & Random Forest: F1 Score 81.84%, Accuracy 77.69%, fastest way and decent results\n",
        "\n",
        "AdaBoost & GradientBoosting: F1 Score 80.60%, Accuracy 76.62%, slower and worse results\n",
        "\n",
        "RandomForest & GradientBoosting: F1 Score 83.01%, Accuracy 79.50%, slower but has best results"
      ]
    },
    {
      "cell_type": "markdown",
      "metadata": {
        "deletable": false,
        "editable": false,
        "nbgrader": {
          "cell_type": "markdown",
          "checksum": "d7520f22a6a708d14fa6d56d42b78d9f",
          "grade": false,
          "grade_id": "cell-b40c3a7c4ef32588",
          "locked": true,
          "schema_version": 3,
          "solution": false,
          "task": false
        },
        "id": "ZfIAKVAG3gOS"
      },
      "source": [
        "## 2.0 Randomization ##"
      ]
    },
    {
      "cell_type": "markdown",
      "metadata": {
        "deletable": false,
        "editable": false,
        "nbgrader": {
          "cell_type": "markdown",
          "checksum": "5073f6ead7355190904470c661d86d53",
          "grade": false,
          "grade_id": "cell-64c9c6881b26f5bb",
          "locked": true,
          "schema_version": 3,
          "solution": false,
          "task": false
        },
        "id": "C7VfUmyO3gOS"
      },
      "source": [
        "**2.1** You are asked to create three ensembles of decision trees where each one uses a different method for producing homogeneous ensembles. Compare them with a simple decision tree classifier and report your results in the dictionaries (dict) below using as key the given name of your classifier and as value the f1/accuracy score. The dictionaries should contain four different elements.  "
      ]
    },
    {
      "cell_type": "code",
      "metadata": {
        "deletable": false,
        "nbgrader": {
          "cell_type": "code",
          "checksum": "1661b594e02f8f8a73ceaad8f03b85a3",
          "grade": true,
          "grade_id": "cell-9e760b938516b506",
          "locked": false,
          "points": 30,
          "schema_version": 3,
          "solution": true,
          "task": false
        },
        "id": "8WreG-C13gOT"
      },
      "source": [
        "# BEGIN CODE HERE\n",
        "ens1 = DecisionTreeClassifier(criterion='entropy', splitter='best', random_state=RANDOM_STATE)\n",
        "ens2 = DecisionTreeClassifier(criterion='gini', splitter='random', random_state=RANDOM_STATE)\n",
        "ens3 = DecisionTreeClassifier(criterion='entropy', splitter='random', random_state=RANDOM_STATE)\n",
        "tree = DecisionTreeClassifier(random_state=RANDOM_STATE)\n",
        "\n",
        "ens1.fit(X, y)\n",
        "ens2.fit(X, y)\n",
        "ens3.fit(X, y)\n",
        "tree.fit(X, y)\n",
        "\n",
        "cv = KFold(n_splits=10, random_state=RANDOM_STATE, shuffle=True)\n",
        "\n",
        "#f1-scores\n",
        "fens1 = cross_val_score(ens1, X, y, scoring='f1', cv=cv, n_jobs=-1)\n",
        "fens1 = mean(fens1)\n",
        "\n",
        "fens2 = cross_val_score(ens2, X, y, scoring='f1', cv=cv, n_jobs=-1)\n",
        "fens2 = mean(fens2)\n",
        "\n",
        "fens3 = cross_val_score(ens3, X, y, scoring='f1', cv=cv, n_jobs=-1)\n",
        "fens3 = mean(fens3)\n",
        "\n",
        "ftree = cross_val_score(tree, X, y, scoring='f1', cv=cv, n_jobs=-1)\n",
        "ftree = mean(ftree)\n",
        "\n",
        "f_measures = {'Ensemble with igain':fens1, 'Ensemble with ramdom split':fens2, 'Ensemble with igain and random split':fens3, 'Simple Decision':ftree}\n",
        "\n",
        "#accuracies\n",
        "aens1 = cross_val_score(ens1, X, y, scoring='accuracy', cv=cv, n_jobs=-1)\n",
        "aens1 = mean(aens1)\n",
        "\n",
        "aens2 = cross_val_score(ens2, X, y, scoring='accuracy', cv=cv, n_jobs=-1)\n",
        "aens2 = mean(aens2)\n",
        "\n",
        "aens3 = cross_val_score(ens3, X, y, scoring='accuracy', cv=cv, n_jobs=-1)\n",
        "aens3 = mean(aens3)\n",
        "\n",
        "atree = cross_val_score(tree, X, y, scoring='accuracy', cv=cv, n_jobs=-1)\n",
        "atree = mean(atree)\n",
        "\n",
        "accuracies = {'Ensemble with igain':aens1, 'Ensemble with ramdom split':aens2, 'Ensemble with igain and random split':aens3, 'Simple Decision':atree}\n",
        "#END CODE HERE"
      ],
      "execution_count": null,
      "outputs": []
    },
    {
      "cell_type": "code",
      "metadata": {
        "deletable": false,
        "editable": false,
        "nbgrader": {
          "cell_type": "code",
          "checksum": "0da6aad44e9bd8a9f7cc06eccec886c0",
          "grade": false,
          "grade_id": "cell-77f4dc2cd4cb2f7e",
          "locked": true,
          "schema_version": 3,
          "solution": false,
          "task": false
        },
        "id": "_Caf6xyo3gOT",
        "colab": {
          "base_uri": "https://localhost:8080/"
        },
        "outputId": "33db56db-2019-46bd-f17d-6933491e57c2"
      },
      "source": [
        "print(ens1)\n",
        "print(ens2)\n",
        "print(ens3)\n",
        "print(tree)\n",
        "for name,score in f_measures.items():\n",
        "    print(\"Classifier:{} -  F1:{}\".format(name,score))\n",
        "for name,score in accuracies.items():\n",
        "    print(\"Classifier:{} -  Accuracy:{}\".format(name,score))"
      ],
      "execution_count": null,
      "outputs": [
        {
          "output_type": "stream",
          "text": [
            "DecisionTreeClassifier(ccp_alpha=0.0, class_weight=None, criterion='entropy',\n",
            "                       max_depth=None, max_features=None, max_leaf_nodes=None,\n",
            "                       min_impurity_decrease=0.0, min_impurity_split=None,\n",
            "                       min_samples_leaf=1, min_samples_split=2,\n",
            "                       min_weight_fraction_leaf=0.0, presort='deprecated',\n",
            "                       random_state=42, splitter='best')\n",
            "DecisionTreeClassifier(ccp_alpha=0.0, class_weight=None, criterion='gini',\n",
            "                       max_depth=None, max_features=None, max_leaf_nodes=None,\n",
            "                       min_impurity_decrease=0.0, min_impurity_split=None,\n",
            "                       min_samples_leaf=1, min_samples_split=2,\n",
            "                       min_weight_fraction_leaf=0.0, presort='deprecated',\n",
            "                       random_state=42, splitter='random')\n",
            "DecisionTreeClassifier(ccp_alpha=0.0, class_weight=None, criterion='entropy',\n",
            "                       max_depth=None, max_features=None, max_leaf_nodes=None,\n",
            "                       min_impurity_decrease=0.0, min_impurity_split=None,\n",
            "                       min_samples_leaf=1, min_samples_split=2,\n",
            "                       min_weight_fraction_leaf=0.0, presort='deprecated',\n",
            "                       random_state=42, splitter='random')\n",
            "DecisionTreeClassifier(ccp_alpha=0.0, class_weight=None, criterion='gini',\n",
            "                       max_depth=None, max_features=None, max_leaf_nodes=None,\n",
            "                       min_impurity_decrease=0.0, min_impurity_split=None,\n",
            "                       min_samples_leaf=1, min_samples_split=2,\n",
            "                       min_weight_fraction_leaf=0.0, presort='deprecated',\n",
            "                       random_state=42, splitter='best')\n",
            "Classifier:Ensemble with igain -  F1:0.7607644352688716\n",
            "Classifier:Ensemble with ramdom split -  F1:0.7520965606212001\n",
            "Classifier:Ensemble with igain and random split -  F1:0.7476281159409988\n",
            "Classifier:Simple Decision -  F1:0.7481925913242188\n",
            "Classifier:Ensemble with igain -  Accuracy:0.7159319240822821\n",
            "Classifier:Ensemble with ramdom split -  Accuracy:0.7097244005000568\n",
            "Classifier:Ensemble with igain and random split -  Accuracy:0.7049590862598022\n",
            "Classifier:Simple Decision -  Accuracy:0.7044897147403114\n"
          ],
          "name": "stdout"
        }
      ]
    },
    {
      "cell_type": "markdown",
      "metadata": {
        "deletable": false,
        "editable": false,
        "nbgrader": {
          "cell_type": "markdown",
          "checksum": "48f3eafac80f6dd15441c4991c78836d",
          "grade": false,
          "grade_id": "cell-a6ea07f0be814a40",
          "locked": true,
          "schema_version": 3,
          "solution": false,
          "task": false
        },
        "id": "Riw1gXVt3gOT"
      },
      "source": [
        "**2.2** Describe your classifiers and your results."
      ]
    },
    {
      "cell_type": "markdown",
      "metadata": {
        "deletable": false,
        "nbgrader": {
          "cell_type": "markdown",
          "checksum": "9395efc3b936166e55b3bec6e0afdab3",
          "grade": true,
          "grade_id": "cell-399fc5e7254f1c58",
          "locked": false,
          "points": 5,
          "schema_version": 3,
          "solution": true,
          "task": false
        },
        "id": "UuxWCcH53gOT"
      },
      "source": [
        "Information Gain and Best Split Decision Tree: F1 Score 76.07%, Accuracy 71.59%\n",
        "\n",
        "Gini and Random Split Decision Tree: F1 Score 75.20%, Accuracy 70.97%\n",
        "\n",
        "Information Gain and Radnom Split Decision Tree: F1 Score 74.76%, Accuracy 70.49%\n",
        "\n",
        "Gini and Best Split Decision Tree: F1 Score 74.81%, Accuracy 70.44%\n",
        "\n",
        "The Best Classifier appears to be the igain with best split decision tree, outscoring every other tree classifier"
      ]
    },
    {
      "cell_type": "markdown",
      "metadata": {
        "deletable": false,
        "editable": false,
        "nbgrader": {
          "cell_type": "markdown",
          "checksum": "f8edad6471eab5b0645f6ca46bab2f7a",
          "grade": false,
          "grade_id": "cell-a0de461bc76e0880",
          "locked": true,
          "schema_version": 3,
          "solution": false,
          "task": false
        },
        "id": "AwHrXrwn3gOU"
      },
      "source": [
        "**2.3** Increasing the number of estimators in a bagging classifier can drastically increase the training time of a classifier. Is there any solution to this problem? Can the same solution be applied to boosting classifiers?"
      ]
    },
    {
      "cell_type": "markdown",
      "metadata": {
        "deletable": false,
        "nbgrader": {
          "cell_type": "markdown",
          "checksum": "c9573961dbe26d9ce6669df5da70a45a",
          "grade": true,
          "grade_id": "cell-0a28025407c78a48",
          "locked": false,
          "points": 5,
          "schema_version": 3,
          "solution": true,
          "task": false
        },
        "id": "QTwhw37z3gOU"
      },
      "source": [
        "YOUR ANSWER HERE"
      ]
    },
    {
      "cell_type": "markdown",
      "metadata": {
        "id": "mrf67ivwUDQb"
      },
      "source": [
        ""
      ]
    },
    {
      "cell_type": "markdown",
      "metadata": {
        "deletable": false,
        "editable": false,
        "nbgrader": {
          "cell_type": "markdown",
          "checksum": "d016d23320010c4d8d9e8218cba553e8",
          "grade": false,
          "grade_id": "cell-35e46873d8c6537c",
          "locked": true,
          "schema_version": 3,
          "solution": false,
          "task": false
        },
        "id": "VJp2rq2E3gOX"
      },
      "source": [
        "## 3.0 Creating the best classifier ##"
      ]
    },
    {
      "cell_type": "markdown",
      "metadata": {
        "deletable": false,
        "editable": false,
        "nbgrader": {
          "cell_type": "markdown",
          "checksum": "e7e2a127a27e4c9131e94ae73e6e325b",
          "grade": false,
          "grade_id": "cell-6de6582e696ba2d8",
          "locked": true,
          "schema_version": 3,
          "solution": false,
          "task": false
        },
        "id": "ktBZxbMR3gOX"
      },
      "source": [
        "**3.1** In this part of the assignment you are asked to train the best possible ensemble! Describe the process you followed to achieve this result. How did you choose your classifier and your parameters and why. Report the f-measure & accuracy (10-fold cross validation) of your final classifier and results of classifiers you tried in the cell following the code. Can you achieve an accuracy over 83-84%?"
      ]
    },
    {
      "cell_type": "code",
      "metadata": {
        "deletable": false,
        "nbgrader": {
          "cell_type": "code",
          "checksum": "f8d58b62ea96a7e0e0776f79c58e4b10",
          "grade": true,
          "grade_id": "cell-d1bba508731c9030",
          "locked": false,
          "points": 20,
          "schema_version": 3,
          "solution": true,
          "task": false
        },
        "id": "ucVfBt7o3gOX"
      },
      "source": [
        "# BEGIN CODE HERE\n",
        "\n",
        "cls1 = KNeighborsClassifier()\n",
        "#cls2 = DecisionTreeClassifier(criterion='entropy', splitter='best', random_state=RANDOM_STATE)\n",
        "cls2 = RandomForestClassifier(n_estimators=10, random_state=RANDOM_STATE) \n",
        "cls3 = GradientBoostingClassifier(n_estimators=10, learning_rate=0.1, random_state=RANDOM_STATE) \n",
        "#cls4 = GaussianNB()\n",
        "\n",
        "best_cls = StackingClassifier([('knn',cls1), ('dt',cls2), ('rf',cls3)])\n",
        "\n",
        "cls1.fit(X, y)\n",
        "cls2.fit(X, y)\n",
        "cls3.fit(X, y)\n",
        "#cls4.fit(X, y)\n",
        "best_cls.fit(X, y)\n",
        "\n",
        "cv = KFold(n_splits=10, random_state=RANDOM_STATE, shuffle=True)\n",
        "\n",
        "fbest = cross_val_score(best_cls, X, y, scoring='f1', cv=cv, n_jobs=-1)\n",
        "best_fmeasure = mean(fbest)\n",
        "\n",
        "abest = cross_val_score(best_cls, X, y, scoring='accuracy', cv=cv, n_jobs=-1)\n",
        "best_accuracy = mean(abest)\n",
        "\n",
        "#END CODE HERE"
      ],
      "execution_count": null,
      "outputs": []
    },
    {
      "cell_type": "code",
      "metadata": {
        "deletable": false,
        "editable": false,
        "nbgrader": {
          "cell_type": "code",
          "checksum": "1ecc691ce956fad47c497b9849747c34",
          "grade": false,
          "grade_id": "cell-39673f451b660dcc",
          "locked": true,
          "schema_version": 3,
          "solution": false,
          "task": false
        },
        "id": "8RjBejuq3gOY",
        "colab": {
          "base_uri": "https://localhost:8080/"
        },
        "outputId": "6b5401a6-341c-4fde-da04-1b1e2e366134"
      },
      "source": [
        "print(\"Classifier:\")\n",
        "print(best_cls)\n",
        "print(\"F1-Score:{} & Accuracy:{}\".format(best_fmeasure,best_accuracy))"
      ],
      "execution_count": null,
      "outputs": [
        {
          "output_type": "stream",
          "text": [
            "Classifier:\n",
            "StackingClassifier(cv=None,\n",
            "                   estimators=[('knn',\n",
            "                                KNeighborsClassifier(algorithm='auto',\n",
            "                                                     leaf_size=30,\n",
            "                                                     metric='minkowski',\n",
            "                                                     metric_params=None,\n",
            "                                                     n_jobs=None, n_neighbors=5,\n",
            "                                                     p=2, weights='uniform')),\n",
            "                               ('dt',\n",
            "                                RandomForestClassifier(bootstrap=True,\n",
            "                                                       ccp_alpha=0.0,\n",
            "                                                       class_weight=None,\n",
            "                                                       criterion='gini',\n",
            "                                                       max_depth=None,\n",
            "                                                       max_features='auto',\n",
            "                                                       max_leaf_nodes=None,\n",
            "                                                       max_samples=None,...\n",
            "                                                           min_samples_leaf=1,\n",
            "                                                           min_samples_split=2,\n",
            "                                                           min_weight_fraction_leaf=0.0,\n",
            "                                                           n_estimators=10,\n",
            "                                                           n_iter_no_change=None,\n",
            "                                                           presort='deprecated',\n",
            "                                                           random_state=42,\n",
            "                                                           subsample=1.0,\n",
            "                                                           tol=0.0001,\n",
            "                                                           validation_fraction=0.1,\n",
            "                                                           verbose=0,\n",
            "                                                           warm_start=False)),\n",
            "                               ('gb',\n",
            "                                GaussianNB(priors=None, var_smoothing=1e-09))],\n",
            "                   final_estimator=None, n_jobs=None, passthrough=False,\n",
            "                   stack_method='auto', verbose=0)\n",
            "F1-Score:0.8477985437375447 & Accuracy:0.8155432435504034\n"
          ],
          "name": "stdout"
        }
      ]
    },
    {
      "cell_type": "markdown",
      "metadata": {
        "deletable": false,
        "editable": false,
        "nbgrader": {
          "cell_type": "markdown",
          "checksum": "667632db5afb6f143062507bae31063f",
          "grade": false,
          "grade_id": "cell-6a072817c64ce4a1",
          "locked": true,
          "schema_version": 3,
          "solution": false,
          "task": false
        },
        "id": "A-jKZ0oh3gOY"
      },
      "source": [
        "**3.2** Describe the process you followed to achieve this result. How did you choose your classifier and your parameters and why. Report the f-measure & accuracy (10-fold cross validation) of your final classifier and results of classifiers you tried in the cell following the code."
      ]
    },
    {
      "cell_type": "markdown",
      "metadata": {
        "deletable": false,
        "nbgrader": {
          "cell_type": "markdown",
          "checksum": "3abcb52a70fcb6da4f93980026b8e593",
          "grade": true,
          "grade_id": "cell-5f1d5ba45ffeb074",
          "locked": false,
          "points": 5,
          "schema_version": 3,
          "solution": true,
          "task": false
        },
        "id": "vD8sbkVk3gOY"
      },
      "source": [
        "1st Measure: knn, randomForest, GradientBoosting: F1-Score: 84.84%, Accuracy: 81.64%\n",
        "\n",
        "2nd Measure: knn, tree, randomForest, GradientBoosting: F1-Score: 84.69% Accuracy: 81.45%\n",
        "\n",
        "3rd Measure: knn, randomForest, GradientBoosting, gaussianNB: F1-Score: 84.77%, Accuracy: 81.55%\n",
        "\n",
        "All the classifiers have similar results but the one with KNearestNeighbors, RandomForest and GradientBoosting has the heighest score so far\n"
      ]
    },
    {
      "cell_type": "markdown",
      "metadata": {
        "deletable": false,
        "editable": false,
        "nbgrader": {
          "cell_type": "markdown",
          "checksum": "22500bda285c8dc9375ee048e883be55",
          "grade": false,
          "grade_id": "cell-5b27d068d1fbfa37",
          "locked": true,
          "schema_version": 3,
          "solution": false,
          "task": false
        },
        "id": "ADSQSaRG3gOY"
      },
      "source": [
        "**3.3** Create a classifier that is going to be used in production - in a live system. Use the *test_set_noclass.csv* to make predictions. Store the predictions in a list.  "
      ]
    },
    {
      "cell_type": "code",
      "metadata": {
        "deletable": false,
        "nbgrader": {
          "cell_type": "code",
          "checksum": "c40bf6a2d6e630b217742246c20d2560",
          "grade": true,
          "grade_id": "cell-ab69a2863e87fd72",
          "locked": false,
          "points": 10,
          "schema_version": 3,
          "solution": true,
          "task": false
        },
        "id": "iRs-5RuQ3gOZ"
      },
      "source": [
        "# BEGIN CODE HERE\n",
        "\n",
        "cls1 = KNeighborsClassifier()\n",
        "cls2 = RandomForestClassifier(n_estimators=10, random_state=RANDOM_STATE) \n",
        "cls3 = GradientBoostingClassifier(n_estimators=10, learning_rate=0.1, random_state=RANDOM_STATE) \n",
        "\n",
        "cls = StackingClassifier([('knn',cls1), ('dt',cls2), ('rf',cls3)])\n",
        "\n",
        "cls1.fit(X, y)\n",
        "cls2.fit(X, y)\n",
        "cls3.fit(X, y)\n",
        "cls.fit(X, y)\n",
        "\n",
        "X_test = pd.read_csv(\"test_set_noclass.csv\").sample(frac=1).reset_index(drop=True)\n",
        "\n",
        "predictions = cls.predict(X_test)\n",
        "\n",
        "#END CODE HERE"
      ],
      "execution_count": null,
      "outputs": []
    },
    {
      "cell_type": "code",
      "metadata": {
        "deletable": false,
        "editable": false,
        "nbgrader": {
          "cell_type": "code",
          "checksum": "ace9dbe06e5607ddf9353befef8472c0",
          "grade": false,
          "grade_id": "cell-d98d6687c3bbe4ee",
          "locked": true,
          "schema_version": 3,
          "solution": false,
          "task": false
        },
        "id": "jZXQpN573gOZ",
        "colab": {
          "base_uri": "https://localhost:8080/"
        },
        "outputId": "27041383-287d-47a6-8c0e-d07256758175"
      },
      "source": [
        "print(cls)\n",
        "print(predictions)"
      ],
      "execution_count": null,
      "outputs": [
        {
          "output_type": "stream",
          "text": [
            "StackingClassifier(cv=None,\n",
            "                   estimators=[('knn',\n",
            "                                KNeighborsClassifier(algorithm='auto',\n",
            "                                                     leaf_size=30,\n",
            "                                                     metric='minkowski',\n",
            "                                                     metric_params=None,\n",
            "                                                     n_jobs=None, n_neighbors=5,\n",
            "                                                     p=2, weights='uniform')),\n",
            "                               ('dt',\n",
            "                                RandomForestClassifier(bootstrap=True,\n",
            "                                                       ccp_alpha=0.0,\n",
            "                                                       class_weight=None,\n",
            "                                                       criterion='gini',\n",
            "                                                       max_depth=None,\n",
            "                                                       max_features='auto',\n",
            "                                                       max_leaf_nodes=None,\n",
            "                                                       max_samples=None,...\n",
            "                                                           min_impurity_decrease=0.0,\n",
            "                                                           min_impurity_split=None,\n",
            "                                                           min_samples_leaf=1,\n",
            "                                                           min_samples_split=2,\n",
            "                                                           min_weight_fraction_leaf=0.0,\n",
            "                                                           n_estimators=10,\n",
            "                                                           n_iter_no_change=None,\n",
            "                                                           presort='deprecated',\n",
            "                                                           random_state=42,\n",
            "                                                           subsample=1.0,\n",
            "                                                           tol=0.0001,\n",
            "                                                           validation_fraction=0.1,\n",
            "                                                           verbose=0,\n",
            "                                                           warm_start=False))],\n",
            "                   final_estimator=None, n_jobs=None, passthrough=False,\n",
            "                   stack_method='auto', verbose=0)\n",
            "[1 1 1 ... 0 0 0]\n"
          ],
          "name": "stdout"
        }
      ]
    },
    {
      "cell_type": "markdown",
      "metadata": {
        "deletable": false,
        "editable": false,
        "nbgrader": {
          "cell_type": "markdown",
          "checksum": "1af1d441fd486d53e45173d4f352ba8c",
          "grade": false,
          "grade_id": "cell-966633c679d5c960",
          "locked": true,
          "schema_version": 3,
          "solution": false,
          "task": false
        },
        "id": "ib-x1-yT3gOZ"
      },
      "source": [
        "LEAVE HERE ANY COMMENTS ABOUT YOUR CLASSIFIER"
      ]
    },
    {
      "cell_type": "markdown",
      "metadata": {
        "deletable": false,
        "editable": false,
        "nbgrader": {
          "cell_type": "markdown",
          "checksum": "24dbe2151df25b6e5b36e988a8e38dcb",
          "grade": false,
          "grade_id": "cell-78ffc0c68225fb1a",
          "locked": true,
          "schema_version": 3,
          "solution": false,
          "task": false
        },
        "id": "PjVZQfnf3gOZ"
      },
      "source": [
        "#### This following cell will not be executed. The test_set.csv with the classes will be made available after the deadline and this cell is for testing purposes!!! Do not modify it! ###"
      ]
    },
    {
      "cell_type": "code",
      "metadata": {
        "deletable": false,
        "editable": false,
        "nbgrader": {
          "cell_type": "code",
          "checksum": "ddcf51aaeaaa305540873fd0012a4b06",
          "grade": false,
          "grade_id": "cell-7946d9ee342bf549",
          "locked": true,
          "schema_version": 3,
          "solution": false,
          "task": false
        },
        "id": "Xi52hG-63gOZ"
      },
      "source": [
        "from sklearn.metrics import f1_score,accuracy_score\n",
        "final_test_set = pd.read_csv('test_set.csv')\n",
        "ground_truth = final_test_set['CLASS']\n",
        "print(\"Accuracy:{}\".format(accuracy_score(predictions,ground_truth)))\n",
        "print(\"F1-Score:{}\".format(f1_score(predictions,ground_truth)))"
      ],
      "execution_count": null,
      "outputs": []
    },
    {
      "cell_type": "code",
      "metadata": {
        "id": "b9-2zniP3gOa"
      },
      "source": [
        ""
      ],
      "execution_count": null,
      "outputs": []
    }
  ]
}