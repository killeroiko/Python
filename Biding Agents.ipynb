{
 "cells": [
  {
   "cell_type": "code",
   "execution_count": 1,
   "metadata": {},
   "outputs": [],
   "source": [
    "import hashlib\n",
    "import matplotlib.pyplot as plt \n",
    "import numpy as np\n",
    "import random\n",
    "import pandas as pd\n",
    "from math import factorial"
   ]
  },
  {
   "cell_type": "code",
   "execution_count": 2,
   "metadata": {},
   "outputs": [],
   "source": [
    "class hard_coded:\n",
    "  def __init__(self):\n",
    "    self.money = 0\n",
    "    self.round = 0\n",
    "\n",
    "  def play_round(self, did_i_win, amount):\n",
    "    self.money += 500\n",
    "    self.round += 1\n",
    "    if did_i_win == 0:\n",
    "      self.money -= amount\n",
    "    prob = [500, 992, 1170, 1181, 1499, 1276, 1290, 1401, 2166, 5000][self.round - 1]\n",
    "    if prob > self.money:\n",
    "      return self.money\n",
    "    else:\n",
    "      return prob    "
   ]
  },
  {
   "cell_type": "code",
   "execution_count": 3,
   "metadata": {},
   "outputs": [],
   "source": [
    "class above_average:\n",
    "  def __init__(self):\n",
    "    self.round = 0\n",
    "    self.player_money = [0] * 4\n",
    "  def play_round(self, winner, winning_bid):\n",
    "    self.round += 1\n",
    "    self.player_money = [x+500 for x in self.player_money]\n",
    "    if winner != -1:\n",
    "      self.player_money[winner] -= winning_bid\n",
    "    if self.round == 10:\n",
    "      return self.player_money[0]\n",
    "    bid = sum(self.player_money[1:]) / 3 + 1\n",
    "    if bid > self.player_money[0]:\n",
    "      return self.player_money[0]\n",
    "    return min(self.player_money[0], bid)"
   ]
  },
  {
   "cell_type": "code",
   "execution_count": 4,
   "metadata": {},
   "outputs": [],
   "source": [
    "class forgetful_bot:\n",
    "  def play_round(self, winner, amt):\n",
    "    return 500"
   ]
  },
  {
   "cell_type": "code",
   "execution_count": 5,
   "metadata": {},
   "outputs": [],
   "source": [
    "class one_upper:\n",
    "    def __init__(self): \n",
    "        self.money = 0\n",
    "        self.round = 0\n",
    "    def play_round(self, winner, win_amount):\n",
    "        self.money += 500\n",
    "        if winner == 0: self.money -= win_amount\n",
    "        self.round += 1\n",
    "        bid = win_amount + 1\n",
    "        if self.money < bid or self.round == 10:\n",
    "            bid = self.money\n",
    "        return bid"
   ]
  },
  {
   "cell_type": "code",
   "execution_count": 6,
   "metadata": {},
   "outputs": [],
   "source": [
    "class patient_bot:\n",
    "    def __init__(self):\n",
    "        self.round = 0\n",
    "        self.money = 0\n",
    "    def rand(self, seed, max):\n",
    "        return (394587485 - self.money*self.round*seed) % (max + 1)\n",
    "    def play_round(self, winner, amount):\n",
    "        self.round += 1\n",
    "        self.money += 500\n",
    "        if winner == 0:\n",
    "            self.money -= amount\n",
    "        if self.round < 6:\n",
    "            return 0\n",
    "        else:\n",
    "            bid = 980 + self.rand(amount, 35)\n",
    "            if self.money < bid or self.round == 10:\n",
    "                bid = self.money\n",
    "            return bid"
   ]
  },
  {
   "cell_type": "code",
   "execution_count": 7,
   "metadata": {},
   "outputs": [],
   "source": [
    "class copycat_or_sad:\n",
    "  def __init__(self):\n",
    "    self.money = 0\n",
    "    self.round = -1\n",
    "  def play_round(self, winner, win_amount):\n",
    "    # Default actions:\n",
    "    #  Collect 500 dollars\n",
    "    self.money += 500\n",
    "    #  If it was the winner: subtract the win_amount from his money\n",
    "    if winner == 0:\n",
    "      self.money -= win_amount\n",
    "    #  One round further\n",
    "    self.round += 1\n",
    "    \n",
    "    # If it's the final round: bid all-in\n",
    "    if self.round == 9:\n",
    "      return self.money\n",
    "    # Else-if there was no previous winner, or it doesn't have enough money left: bid 1\n",
    "    if win_amount < 1 or self.money < win_amount:\n",
    "      return 1\n",
    "    # Else: bid the exact same as the previous winner\n",
    "    return win_amount"
   ]
  },
  {
   "cell_type": "code",
   "execution_count": 8,
   "metadata": {},
   "outputs": [],
   "source": [
    "class eenie_meanie_more:\n",
    "    def __init__(self):\n",
    "        self.money = [0] * 4\n",
    "        self.rounds = 11\n",
    "        self.total_spent = 0\n",
    "\n",
    "    def play_round(self, winner, winning_bid):\n",
    "        self.money = [x+500 for x in self.money]\n",
    "        self.rounds -= 1\n",
    "        if winner != -1:\n",
    "            self.money[winner] -= winning_bid\n",
    "            self.total_spent += winning_bid\n",
    "        bid = 500\n",
    "        if self.rounds > 0 and self.total_spent < 20000:\n",
    "            bid = int((20000 - self.total_spent)/self.rounds/4)+440\n",
    "        return min(bid, max(self.money[1:])+1, self.money[0])"
   ]
  },
  {
   "cell_type": "code",
   "execution_count": 9,
   "metadata": {},
   "outputs": [],
   "source": [
    "class AverageMine:\n",
    "    nplayers = 4\n",
    "    maxrounds = 10\n",
    "    def __init__(self):\n",
    "        self.money = [0] * self.nplayers\n",
    "        self.wins = [0] * self.nplayers\n",
    "        self.round = 0\n",
    "        self.average = 0\n",
    "    def play_round(self, winner, win_amt):\n",
    "        self.round += 1\n",
    "        for i in range(self.nplayers):\n",
    "            if i == winner:\n",
    "                self.average = (self.average * (self.round - 2) + (win_amt / self.money[i])) / (self.round - 1)\n",
    "                self.money[i] -= win_amt\n",
    "                self.wins[i] += 1\n",
    "            self.money[i] += 500\n",
    "        if self.round == 1:\n",
    "            return int(0.990 * self.money[0])\n",
    "        elif self.round < self.maxrounds:\n",
    "            if self.money[0] > self.money[1] + 1 and self.money[0] > self.money[2] + 1 and self.money[0] > self.money[3] + 1:\n",
    "                return max(self.money[1],self.money[2],self.money[3]) + 1\n",
    "            bid = int(self.average * self.money[0]) + 85\n",
    "            return min(self.money[0],bid)\n",
    "        else:\n",
    "            bid = self.money[0]\n",
    "            return bid"
   ]
  },
  {
   "cell_type": "code",
   "execution_count": 10,
   "metadata": {},
   "outputs": [],
   "source": [
    "class minus_one:\n",
    "    def __init__(self):\n",
    "        self.money = 0\n",
    "    def play_round(self, winner, amount):\n",
    "        self.money += 500\n",
    "        if winner == 0:\n",
    "            self.money -= amount\n",
    "        return self.money - 1"
   ]
  },
  {
   "cell_type": "code",
   "execution_count": 11,
   "metadata": {},
   "outputs": [],
   "source": [
    "class heurist:\n",
    "    def __init__(self):\n",
    "        self.money = 0\n",
    "        self.round = -1\n",
    "        self.net_worth = [0] * 4\n",
    "    def play_round(self, winner, bid):\n",
    "        self.round += 1\n",
    "        self.money += 500\n",
    "        if winner == 0: self.money -= bid\n",
    "        if winner != -1: self.net_worth[winner] -= bid\n",
    "        self.net_worth = [x+500 for x in self.net_worth]\n",
    "        max_bid = [498,1000,1223,1391,1250,1921,2511,1666,1600,5000][self.round]\n",
    "        if self.money > max_bid:\n",
    "            return 1 + min(max_bid,max(self.net_worth[1:3]))\n",
    "        else:\n",
    "            return self.money"
   ]
  },
  {
   "cell_type": "code",
   "execution_count": 12,
   "metadata": {},
   "outputs": [],
   "source": [
    "class blacklist_mod:\n",
    "  def __init__(self):\n",
    "    self.round = 0\n",
    "    self.player_money = [0] * 4\n",
    "    self.blacklist = {0, 499}\n",
    "  def play_round(self, winner, winning_bid):\n",
    "    self.round += 1\n",
    "    self.player_money = [x+500 for x in self.player_money]\n",
    "    if winner != -1:\n",
    "      self.player_money[winner] -= winning_bid\n",
    "      self.blacklist.add(winning_bid % 500)\n",
    "      self.blacklist |= {x % 500 for x in self.player_money[1:]}\n",
    "    tentative_bid = self.player_money[0]\n",
    "    autowin = max(self.player_money[1:])+1\n",
    "    if tentative_bid < autowin:\n",
    "      while tentative_bid and (tentative_bid % 500) in self.blacklist:\n",
    "        tentative_bid = tentative_bid - 1\n",
    "    else:\n",
    "      tentative_bid = autowin\n",
    "    self.blacklist.add(tentative_bid % 500)\n",
    "    return tentative_bid"
   ]
  },
  {
   "cell_type": "code",
   "execution_count": 13,
   "metadata": {},
   "outputs": [],
   "source": [
    "class patient_distributer_bot:\n",
    "    def __init__(self):\n",
    "        #starting money = 0\n",
    "        self.dollar = 0\n",
    "        #randomizer\n",
    "        self.random = myrand(1)\n",
    "        #round counter\n",
    "        self.round = 0\n",
    "    def play_round(self, winner, win_amount):\n",
    "        #add 500$\n",
    "        self.dollar += 500\n",
    "        #go to next round\n",
    "        self.round += 1\n",
    "        #if bot wins, subtract the winning amount\n",
    "        if winner == 0:\n",
    "            self.dollar -= win_amount\n",
    "        #if it is the first half of rounds, distribute the money across\n",
    "        if self.round < 5:\n",
    "            return (((10 - self.round) - 1) * 500 + self.dollar) / 10 - self.round\n",
    "        #if its the second half of rounds, bid ~1000$\n",
    "        #if you dont have enough budget or its the final round, go all in\n",
    "        else:\n",
    "            bid = 980 + self.random.randint(win_amount, 35)\n",
    "            if self.dollar < bid or self.round == 10:\n",
    "                bid = self.dollar\n",
    "            return bid"
   ]
  },
  {
   "cell_type": "code",
   "execution_count": 14,
   "metadata": {},
   "outputs": [],
   "source": [
    "class myrand:\n",
    "    def __init__(self, seed): self.val = seed\n",
    "    def randint(self, a, b):\n",
    "        self.val = (self.val * 6364136223846793005 + 1) % (1 << 64)\n",
    "        return (self.val >> 32) % (b - a + 1) + a\n"
   ]
  },
  {
   "cell_type": "code",
   "execution_count": 15,
   "metadata": {},
   "outputs": [],
   "source": [
    "class detail_bot:\n",
    "\n",
    "    def __init__(self):\n",
    "        self.round = 0\n",
    "        self.dollar = [0] * 4\n",
    "\n",
    "\n",
    "    def play_round(self, winner, win_amt):\n",
    "        for i in range(4):\n",
    "            if i == winner:\n",
    "                self.dollar[i] -= win_amt\n",
    "            self.dollar[i]+=500\n",
    "        self.round+=1\n",
    "        if(self.round==1 or self.round==10):\n",
    "            return self.dollar[0]\n",
    "        elif self.dollar[0] > self.dollar[1] + 1 and self.dollar[0] > self.dollar[2] + 1 and self.dollar[0] > self.dollar[\n",
    "            3] + 1:\n",
    "            return max(self.dollar[1], self.dollar[2], self.dollar[3]) + 1\n",
    "        else:\n",
    "            return randrange(self.dollar[0])"
   ]
  },
  {
   "cell_type": "code",
   "execution_count": 16,
   "metadata": {},
   "outputs": [],
   "source": [
    "class Graylist:\n",
    "  def __init__(self):\n",
    "    self.round = 0\n",
    "    self.player_money = [0] * 4\n",
    "    self.ratios = {1}\n",
    "    self.diffs = {0}\n",
    "  def play_round(self, winner, winning_bid):\n",
    "    self.round += 1\n",
    "    if winner != -1:\n",
    "      if winner >0 and winning_bid>0:\n",
    "        self.ratios.add(self.player_money[winner]/winning_bid)\n",
    "        self.diffs.add(self.player_money[winner]-winning_bid)\n",
    "      self.player_money[winner] -= winning_bid\n",
    "    self.player_money = [x+500 for x in self.player_money]\n",
    "    tentative_bid = min(self.player_money[0],max(self.player_money[1:])+1, winning_bid+169, sum(self.player_money[1:])//3+169)\n",
    "    while tentative_bid and (tentative_bid in (round(m*r) for m in self.player_money[1:] for r in self.ratios)) or (tentative_bid in (m-d for m in self.player_money[1:] for d in self.diffs)):\n",
    "      tentative_bid = tentative_bid - 1\n",
    "    return tentative_bid"
   ]
  },
  {
   "cell_type": "code",
   "execution_count": 17,
   "metadata": {},
   "outputs": [],
   "source": [
    "class meanie:\n",
    "    def __init__(self):\n",
    "        self.money = [0] * 4\n",
    "        self.rounds = 11\n",
    "        self.total_spent = 0\n",
    "\n",
    "    def play_round(self,winner,winning_bid):\n",
    "        self.money = [x+500 for x in self.money]\n",
    "        self.rounds -= 1\n",
    "        if winner != -1:\n",
    "            self.money[winner] -= winning_bid\n",
    "            self.total_spent += winning_bid\n",
    "        bid = 500\n",
    "        if self.rounds > 0 and self.total_spent < 20000:\n",
    "            bid = int((20000 - self.total_spent)/self.rounds/4)+1\n",
    "        return min(bid,max(self.money[1:])+1,self.money[0])\n"
   ]
  },
  {
   "cell_type": "code",
   "execution_count": 18,
   "metadata": {},
   "outputs": [],
   "source": [
    "class BeatTheWinner:\n",
    "    nplayers = 4\n",
    "    maxrounds = 10\n",
    "    def __init__(self):\n",
    "        self.money = [0] * self.nplayers\n",
    "        self.wins = [0] * self.nplayers\n",
    "        self.round = 0\n",
    "\n",
    "    def play_round(self, winner, win_amt):\n",
    "        self.round += 1\n",
    "        for i in range(self.nplayers):\n",
    "            self.money[i] += 500\n",
    "            if i == winner:\n",
    "                self.money[i] -= win_amt\n",
    "                self.wins[i] += 1\n",
    "        mymoney = self.money[0]\n",
    "        for w,m in sorted(zip(self.wins, self.money),reverse=True):\n",
    "            if mymoney > m:\n",
    "                return m+1\n",
    "        #if we get here we can't afford our default strategy, so\n",
    "        return int(mymoney/10)"
   ]
  },
  {
   "cell_type": "markdown",
   "metadata": {},
   "source": [
    "# Our BOTS"
   ]
  },
  {
   "cell_type": "code",
   "execution_count": 19,
   "metadata": {},
   "outputs": [],
   "source": [
    "class ninty_nine:\n",
    "    \n",
    "    def __init__(self):\n",
    "        self.dollar = 0\n",
    "        self.round=0\n",
    "\n",
    "    \n",
    "    def play_round(self,winner,win_amount):\n",
    "        \n",
    "        self.dollar += 500\n",
    "        if winner == 0:\n",
    "            self.dollar -= win_amount\n",
    "        self.round+= 1\n",
    "        if self.round==10:\n",
    "            return self.dollar\n",
    "        else:\n",
    "            return self.dollar * 0.99\n"
   ]
  },
  {
   "cell_type": "code",
   "execution_count": 20,
   "metadata": {},
   "outputs": [],
   "source": [
    "class above_average_percentage_bot:\n",
    "    def __init__(self):\n",
    "        #starting money = 0\n",
    "        self.dollar = 0 \n",
    "        #randomizer\n",
    "        self.random = myrand(1)\n",
    "        #round counter\n",
    "        self.round = 0\n",
    "        #total winnings counter\n",
    "        self.total = 0\n",
    "    def play_round(self, winner, win_amount):\n",
    "        #add 500$\n",
    "        self.dollar += 500\n",
    "        #go to next round\n",
    "        self.round += 1\n",
    "        #add the winnig amount in the total\n",
    "        self.total += win_amount\n",
    "        #if bot wins, subtract the winnig amount\n",
    "        if winner == 0: \n",
    "            self.dollar -= win_amount\n",
    "        #return a random amount between the average winnig amount of your total budget \n",
    "        #based on the average win percentage and the budget left\n",
    "        try:\n",
    "            bid = self.random.randint(((self.total/self.round)/win_amount)*self.dollar,self.dollar)\n",
    "        except ZeroDivisionError:\n",
    "            return self.dollar\n",
    "        \n",
    "        if bid > self.dollar or self.round == 10:\n",
    "          return self.dollar\n",
    "        else:\n",
    "          return bid"
   ]
  },
  {
   "cell_type": "code",
   "execution_count": 21,
   "metadata": {},
   "outputs": [],
   "source": [
    "class billonios2:\n",
    "    def __init__(self):\n",
    "        self.money = 0\n",
    "        self.round = -1\n",
    "        self.adder = 0\n",
    "\n",
    "    def play_round(self, winner, winning_bid):\n",
    "        self.money += 500            \n",
    "        if winner == 0:\n",
    "            self.adder = 0\n",
    "            self.money -= winning_bid\n",
    "        self.round += 1\n",
    "        if self.round == 0:\n",
    "            return 0\n",
    "        self.adder += 11\n",
    "        bid = winning_bid + self.adder\n",
    "        if self.money < bid or self.round==10:\n",
    "            bid = self.money\n",
    "        return bid"
   ]
  },
  {
   "cell_type": "markdown",
   "metadata": {},
   "source": [
    "# The plot function"
   ]
  },
  {
   "cell_type": "code",
   "execution_count": 22,
   "metadata": {},
   "outputs": [],
   "source": [
    "def plot_it(bids, pl):\n",
    "    fig = plt.figure()\n",
    "    X = np.arange(10)\n",
    "    ax = fig.add_axes([0,0,1,1])\n",
    "    ax.bar(X - 0.2, bids[0], color = 'r', width = 0.2, label= bot_list[pl[0]].__name__)\n",
    "    ax.bar(X + 0, bids[1], color = 'g', width = 0.2, label= bot_list[pl[1]].__name__)\n",
    "    ax.bar(X + 0.2, bids[2], color = 'b', width = 0.2, label= bot_list[pl[2]].__name__)\n",
    "    ax.bar(X + 0.4, bids[3], color = 'm', width = 0.2, label= bot_list[pl[3]].__name__)\n",
    "    # X and Y labels\n",
    "    ax.set_ylabel('Bids')\n",
    "    ax.set_xlabel('Rounds')\n",
    "    ax.set_title('Bids by 4 bots')\n",
    "    \n",
    "    x_label = [str(i) for i in range(1,11)]\n",
    "    ax.set_xticks(X)\n",
    "    ax.set_xticklabels(x_label)\n",
    "    ax.legend()"
   ]
  },
  {
   "cell_type": "markdown",
   "metadata": {},
   "source": [
    "# The console (modified)"
   ]
  },
  {
   "cell_type": "code",
   "execution_count": 23,
   "metadata": {
    "scrolled": false
   },
   "outputs": [
    {
     "name": "stdout",
     "output_type": "stream",
     "text": [
      "ninty_nine           Score: 13     Total: 16926\n",
      "above_average_percentage_bot Score: 12     Total: 14725\n",
      "billonios2           Score: 11     Total: 14528\n",
      "BeatTheWinner        Score: 10     Total: 11887\n",
      "patient_bot          Score: 4      Total: 20000\n"
     ]
    },
    {
     "data": {
      "image/png": "[encoded data removed]",
      "text/plain": [
       "<Figure size 432x288 with 1 Axes>"
      ]
     },
     "metadata": {
      "needs_background": "light"
     },
     "output_type": "display_data"
    },
    {
     "data": {
      "image/png": "[encoded data removed]",
      "text/plain": [
       "<Figure size 432x288 with 1 Axes>"
      ]
     },
     "metadata": {
      "needs_background": "light"
     },
     "output_type": "display_data"
    },
    {
     "data": {
      "image/png": "[encoded data removed]",
      "text/plain": [
       "<Figure size 432x288 with 1 Axes>"
      ]
     },
     "metadata": {
      "needs_background": "light"
     },
     "output_type": "display_data"
    },
    {
     "data": {
      "image/png": "[encoded data removed]",
      "text/plain": [
       "<Figure size 432x288 with 1 Axes>"
      ]
     },
     "metadata": {
      "needs_background": "light"
     },
     "output_type": "display_data"
    },
    {
     "data": {
      "image/png": "[encoded data removed]",
      "text/plain": [
       "<Figure size 432x288 with 1 Axes>"
      ]
     },
     "metadata": {
      "needs_background": "light"
     },
     "output_type": "display_data"
    }
   ],
   "source": [
    "# from some_bots import some_bots\n",
    "\n",
    "bot_list = [#copycat_or_sad,\n",
    "            BeatTheWinner,\n",
    "#             hard_coded,\n",
    "#             above_average,\n",
    "#             forgetful_bot,\n",
    "            patient_bot,\n",
    "#             eenie_meanie_more,\n",
    "#             AverageMine,\n",
    "#             minus_one,\n",
    "#             heurist,\n",
    "#             blacklist_mod,\n",
    "            ninty_nine,\n",
    "            billonios2,\n",
    "            above_average_percentage_bot,\n",
    "#             Graylist,\n",
    "#             meanie\n",
    "           ]\n",
    "\n",
    "\n",
    "def decide_order(ls):\n",
    "    hash = int(hashlib.sha1(str(ls).encode()).hexdigest(), 16) % 24\n",
    "    nls = []\n",
    "    for i in range(4, 0, -1):\n",
    "        nls.append(ls[hash % i])\n",
    "        del ls[hash % i]\n",
    "        hash //= i\n",
    "    return nls\n",
    "\n",
    "N = len(bot_list)\n",
    "score = [0] * N\n",
    "total = [0] * N\n",
    "counter_games = 0\n",
    "# Total games n! / (n - r)! \n",
    "# where n the number of bots and r equals 4 because in every games 4 bots are participating\n",
    "total_games = factorial(N) / (factorial(4)*factorial(N - 4))\n",
    "\n",
    "#That's an array \n",
    "rounds_plot = [[[0 for i in range(4)] for j in range(10)] for k in range(int(total_games))]\n",
    "\n",
    "# Convert to DataFrame in order to handle it easier\n",
    "datas = pd.DataFrame(rounds_plot)\n",
    "\n",
    "def auction(ls):\n",
    "    # Variables for plot purpose\n",
    "    bids_plot = [[0 for i in range(10)] for j in range(4)]\n",
    "    \n",
    "    global score, total, counter_games\n",
    "    pl = decide_order(sorted(ls))\n",
    "    bots = [bot_list[i]() for i in pl]\n",
    "    dollar = [0] * 4\n",
    "    prev_win, prev_bid = -1, -1\n",
    "    for rounds in range(10):\n",
    "        bids = []\n",
    "        #give the each bot 500$\n",
    "        for i in range(4): \n",
    "            dollar[i] += 500\n",
    "        for i in range(4):\n",
    "            tmp_win = prev_win\n",
    "            #if a bot won the last round, set the temporary win variable to 0\n",
    "            if prev_win == i: tmp_win = 0\n",
    "            #if some other bot won and played before this one,\n",
    "            #increase the temporary win variable by one\n",
    "            elif prev_win != -1 and prev_win < i: tmp_win += 1\n",
    "            #get the bid from the bot playing\n",
    "            bid = int(bots[i].play_round(tmp_win, prev_bid))\n",
    "            if bid < 0 or bid > dollar[i]: raise ValueError(pl[i])\n",
    "            # Append it to the bid_plot in order to plot it\n",
    "            bids_plot[i][rounds] = bid\n",
    "            bids.append((bid, i))\n",
    "            \n",
    "            # Adding the variables to the DataFrame\n",
    "            datas.iloc[counter_games][rounds][i] = bid\n",
    "\n",
    "            \n",
    "        bids.sort(reverse = True)\n",
    "        winner = 0\n",
    "        if bids[0][0] == bids[1][0]:\n",
    "            if bids[2][0] == bids[3][0]: winner = -1\n",
    "            elif bids[1][0] == bids[2][0]: winner = 3\n",
    "            else: winner = 2\n",
    "        if winner == -1:\n",
    "            prev_win, prev_bid = -1, -1\n",
    "        else:\n",
    "            prev_bid, prev_win = bids[winner]\n",
    "            score[pl[prev_win]] += 1\n",
    "            total[pl[prev_win]] += prev_bid\n",
    "            dollar[prev_win] -= prev_bid\n",
    "    \n",
    "    counter_games +=1\n",
    "    plot_it(bids_plot, pl)\n",
    "    \n",
    "\n",
    "for a in range(N - 3):\n",
    "    for b in range(a + 1, N - 2):\n",
    "        for c in range(b + 1, N - 1):\n",
    "            for d in range(c + 1, N): auction([a, b, c, d])\n",
    "\n",
    "res = sorted(map(list, zip(score, total, bot_list)), key = lambda k: (-k[0], k[1]))\n",
    "\n",
    "class TIE_REMOVED: pass\n",
    "\n",
    "for i in range(N - 1):\n",
    "    if (res[i][0], res[i][1]) == (res[i + 1][0], res[i + 1][1]):\n",
    "        res[i][2] = res[i + 1][2] = TIE_REMOVED\n",
    "\n",
    "for sc, t, tp in res:\n",
    "    \n",
    "    print('%-20s Score: %-6d Total: %d' % (tp.__name__, sc, t))\n"
   ]
  },
  {
   "cell_type": "code",
   "execution_count": 24,
   "metadata": {},
   "outputs": [
    {
     "data": {
      "text/html": [
       "<div>\n",
       "<style scoped>\n",
       "    .dataframe tbody tr th:only-of-type {\n",
       "        vertical-align: middle;\n",
       "    }\n",
       "\n",
       "    .dataframe tbody tr th {\n",
       "        vertical-align: top;\n",
       "    }\n",
       "\n",
       "    .dataframe thead th {\n",
       "        text-align: right;\n",
       "    }\n",
       "</style>\n",
       "<table border=\"1\" class=\"dataframe\">\n",
       "  <thead>\n",
       "    <tr style=\"text-align: right;\">\n",
       "      <th></th>\n",
       "      <th>0</th>\n",
       "      <th>1</th>\n",
       "      <th>2</th>\n",
       "      <th>3</th>\n",
       "      <th>4</th>\n",
       "      <th>5</th>\n",
       "      <th>6</th>\n",
       "      <th>7</th>\n",
       "      <th>8</th>\n",
       "      <th>9</th>\n",
       "    </tr>\n",
       "  </thead>\n",
       "  <tbody>\n",
       "    <tr>\n",
       "      <th>0</th>\n",
       "      <td>[495, 50, 0, 0]</td>\n",
       "      <td>[499, 506, 0, 506]</td>\n",
       "      <td>[500, 507, 0, 521]</td>\n",
       "      <td>[995, 1007, 0, 532]</td>\n",
       "      <td>[1490, 149, 0, 1029]</td>\n",
       "      <td>[510, 517, 997, 1523]</td>\n",
       "      <td>[1005, 1017, 993, 1456]</td>\n",
       "      <td>[1500, 1517, 989, 500]</td>\n",
       "      <td>[1995, 1001, 997, 1000]</td>\n",
       "      <td>[521, 522, 5000, 1500]</td>\n",
       "    </tr>\n",
       "    <tr>\n",
       "      <th>1</th>\n",
       "      <td>[50, 0, 495, 500]</td>\n",
       "      <td>[501, 0, 990, 412]</td>\n",
       "      <td>[1001, 0, 504, 582]</td>\n",
       "      <td>[99, 0, 999, 1489]</td>\n",
       "      <td>[512, 0, 1494, 390]</td>\n",
       "      <td>[1012, 997, 510, 682]</td>\n",
       "      <td>[1017, 989, 1005, 1444]</td>\n",
       "      <td>[568, 1013, 1500, 429]</td>\n",
       "      <td>[1068, 997, 510, 857]</td>\n",
       "      <td>[1568, 5000, 1016, 1567]</td>\n",
       "    </tr>\n",
       "    <tr>\n",
       "      <th>2</th>\n",
       "      <td>[50, 0, 500, 0]</td>\n",
       "      <td>[501, 511, 412, 0]</td>\n",
       "      <td>[1001, 522, 934, 0]</td>\n",
       "      <td>[99, 1023, 1265, 0]</td>\n",
       "      <td>[736, 1298, 669, 0]</td>\n",
       "      <td>[1236, 1191, 1077, 997]</td>\n",
       "      <td>[126, 1258, 1709, 1009]</td>\n",
       "      <td>[527, 1742, 341, 993]</td>\n",
       "      <td>[1027, 949, 609, 997]</td>\n",
       "      <td>[1527, 1049, 1526, 5000]</td>\n",
       "    </tr>\n",
       "    <tr>\n",
       "      <th>3</th>\n",
       "      <td>[0, 495, 500, 50]</td>\n",
       "      <td>[511, 990, 412, 501]</td>\n",
       "      <td>[1012, 504, 582, 1001]</td>\n",
       "      <td>[988, 999, 1132, 1501]</td>\n",
       "      <td>[1488, 1494, 1317, 99]</td>\n",
       "      <td>[1527, 510, 2349, 517]</td>\n",
       "      <td>[2393, 1005, 614, 1017]</td>\n",
       "      <td>[595, 1500, 796, 1517]</td>\n",
       "      <td>[1095, 1995, 1424, 1096]</td>\n",
       "      <td>[1595, 521, 2151, 522]</td>\n",
       "    </tr>\n",
       "    <tr>\n",
       "      <th>4</th>\n",
       "      <td>[0, 500, 495, 0]</td>\n",
       "      <td>[511, 412, 990, 0]</td>\n",
       "      <td>[1012, 582, 504, 0]</td>\n",
       "      <td>[988, 1132, 999, 0]</td>\n",
       "      <td>[1154, 723, 1494, 0]</td>\n",
       "      <td>[1527, 1161, 510, 997]</td>\n",
       "      <td>[961, 1186, 1005, 985]</td>\n",
       "      <td>[1208, 1164, 1500, 989]</td>\n",
       "      <td>[1533, 1532, 510, 997]</td>\n",
       "      <td>[928, 2182, 1016, 5000]</td>\n",
       "    </tr>\n",
       "  </tbody>\n",
       "</table>\n",
       "</div>"
      ],
      "text/plain": [
       "                   0                     1                       2  \\\n",
       "0    [495, 50, 0, 0]    [499, 506, 0, 506]      [500, 507, 0, 521]   \n",
       "1  [50, 0, 495, 500]    [501, 0, 990, 412]     [1001, 0, 504, 582]   \n",
       "2    [50, 0, 500, 0]    [501, 511, 412, 0]     [1001, 522, 934, 0]   \n",
       "3  [0, 495, 500, 50]  [511, 990, 412, 501]  [1012, 504, 582, 1001]   \n",
       "4   [0, 500, 495, 0]    [511, 412, 990, 0]     [1012, 582, 504, 0]   \n",
       "\n",
       "                        3                       4                        5  \\\n",
       "0     [995, 1007, 0, 532]    [1490, 149, 0, 1029]    [510, 517, 997, 1523]   \n",
       "1      [99, 0, 999, 1489]     [512, 0, 1494, 390]    [1012, 997, 510, 682]   \n",
       "2     [99, 1023, 1265, 0]     [736, 1298, 669, 0]  [1236, 1191, 1077, 997]   \n",
       "3  [988, 999, 1132, 1501]  [1488, 1494, 1317, 99]   [1527, 510, 2349, 517]   \n",
       "4     [988, 1132, 999, 0]    [1154, 723, 1494, 0]   [1527, 1161, 510, 997]   \n",
       "\n",
       "                         6                        7                         8  \\\n",
       "0  [1005, 1017, 993, 1456]   [1500, 1517, 989, 500]   [1995, 1001, 997, 1000]   \n",
       "1  [1017, 989, 1005, 1444]   [568, 1013, 1500, 429]     [1068, 997, 510, 857]   \n",
       "2  [126, 1258, 1709, 1009]    [527, 1742, 341, 993]     [1027, 949, 609, 997]   \n",
       "3  [2393, 1005, 614, 1017]   [595, 1500, 796, 1517]  [1095, 1995, 1424, 1096]   \n",
       "4   [961, 1186, 1005, 985]  [1208, 1164, 1500, 989]    [1533, 1532, 510, 997]   \n",
       "\n",
       "                          9  \n",
       "0    [521, 522, 5000, 1500]  \n",
       "1  [1568, 5000, 1016, 1567]  \n",
       "2  [1527, 1049, 1526, 5000]  \n",
       "3    [1595, 521, 2151, 522]  \n",
       "4   [928, 2182, 1016, 5000]  "
      ]
     },
     "execution_count": 24,
     "metadata": {},
     "output_type": "execute_result"
    }
   ],
   "source": [
    "datas"
   ]
  },
  {
   "cell_type": "markdown",
   "metadata": {},
   "source": [
    "# The Script"
   ]
  },
  {
   "cell_type": "code",
   "execution_count": 25,
   "metadata": {
    "scrolled": false
   },
   "outputs": [
    {
     "name": "stdout",
     "output_type": "stream",
     "text": [
      "Round 0 we have an average of 408.00$ bid\n",
      "Round 1 we have an average of 651.70$ bid\n",
      "Round 2 we have an average of 815.30$ bid\n",
      "Round 3 we have an average of 1154.20$ bid\n",
      "Round 4 we have an average of 1218.90$ bid\n",
      "Round 5 we have an average of 1352.00$ bid\n",
      "Round 6 we have an average of 1350.20$ bid\n",
      "Round 7 we have an average of 1399.00$ bid\n",
      "Round 8 we have an average of 1356.90$ bid\n",
      "Round 9 we have an average of 3052.30$ bid\n"
     ]
    }
   ],
   "source": [
    "# -------------------------   SCRIPT ----------- \n",
    "\n",
    "average_block = []\n",
    "values = 2\n",
    "\n",
    "for j in range(10):\n",
    "    sums = 0\n",
    "    \n",
    "    #iterate through the games\n",
    "    for i in range(datas.shape[0]):\n",
    "        #take the n largest values\n",
    "        temp = (pd.DataFrame(datas.iloc[i,j])).nlargest(values, 0).sum()\n",
    "        #find the mean \n",
    "        sums += temp/values\n",
    "        \n",
    "    #find the mean bid from all games in round j\n",
    "    sums /= datas.shape[0]\n",
    "    average_block.append(sums)\n",
    "    print(\"Round {} we have an average of {:.2f}$ bid\".format(j, sums[0]))"
   ]
  },
  {
   "cell_type": "code",
   "execution_count": 26,
   "metadata": {
    "scrolled": false
   },
   "outputs": [
    {
     "data": {
      "image/png": "[encoded data removed]",
      "text/plain": [
       "<Figure size 432x288 with 1 Axes>"
      ]
     },
     "metadata": {
      "needs_background": "light"
     },
     "output_type": "display_data"
    }
   ],
   "source": [
    "plt.ylim(0, 3500)\n",
    "plt.xlim(0,9, 1)\n",
    "plt.xlabel('Rounds')\n",
    "plt.ylabel('Bids')\n",
    "plt.plot(average_block, 'g')\n",
    "plt.show()"
   ]
  },
  {
   "cell_type": "code",
   "execution_count": null,
   "metadata": {},
   "outputs": [],
   "source": []
  },
  {
   "cell_type": "code",
   "execution_count": null,
   "metadata": {},
   "outputs": [],
   "source": []
  },
  {
   "cell_type": "code",
   "execution_count": null,
   "metadata": {},
   "outputs": [],
   "source": []
  }
 ],
 "metadata": {
  "kernelspec": {
   "display_name": "Python 3",
   "language": "python",
   "name": "python3"
  },
  "language_info": {
   "codemirror_mode": {
    "name": "ipython",
    "version": 3
   },
   "file_extension": ".py",
   "mimetype": "text/x-python",
   "name": "python",
   "nbconvert_exporter": "python",
   "pygments_lexer": "ipython3",
   "version": "3.7.0"
  }
 },
 "nbformat": 4,
 "nbformat_minor": 4
}
